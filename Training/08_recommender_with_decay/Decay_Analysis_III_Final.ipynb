{
 "cells": [
  {
   "cell_type": "markdown",
   "metadata": {},
   "source": [
    "# Basic Recommendation on Movielens Dataset"
   ]
  },
  {
   "cell_type": "markdown",
   "metadata": {},
   "source": [
    "## Import Libraries"
   ]
  },
  {
   "cell_type": "code",
   "execution_count": 1,
   "metadata": {},
   "outputs": [],
   "source": [
    "import numpy as np\n",
    "import pandas as pd\n",
    "import matplotlib.pyplot as plt\n",
    "import seaborn as sns\n",
    "from math import ceil\n",
    "from enum import auto, Enum\n",
    "from datetime import datetime\n",
    "from collections import defaultdict\n",
    "from timeit import default_timer\n",
    "from collections import defaultdict\n",
    "import random\n",
    "%matplotlib inline\n",
    "sns.set_style('white')"
   ]
  },
  {
   "cell_type": "markdown",
   "metadata": {},
   "source": [
    "## Load Dataset"
   ]
  },
  {
   "cell_type": "code",
   "execution_count": 2,
   "metadata": {},
   "outputs": [],
   "source": [
    "class PredictionTimeConstraint(Enum):\n",
    "    AT = auto()\n",
    "    IN = auto()\n",
    "    NO = auto()\n",
    "    \n",
    "class RecSys:\n",
    "    def __init__(self, movie_ratings_data, min_common_elements):\n",
    "        self.movie_ratings = movie_ratings_data\n",
    "        self.min_common_elements = min_common_elements\n",
    "        # User Movie Matrix, Rows-> Movie_Titles :: Columns -> User_IDs :: Values -> User Ratings\n",
    "        self.user_movie_matrix = self.movie_ratings.pivot_table(index='title', columns='user_id', values='rating')\n",
    "        self.user_corr_matrix = self.user_movie_matrix.corr(method='pearson', min_periods=min_common_elements)\n",
    "        \n",
    "        # Temporal User Correlations Matrix CACHE details\n",
    "        # Since analysis requires us do more than one predictions with same dates save the user_corr_matrix for performance\n",
    "        self.temporal_user_corr_matrix = None\n",
    "        self.temporal_time_constraint = None\n",
    "        self.temporal_dt = None\n",
    "        self.temporal_start_dt = None\n",
    "        self.temporal_end_dt = None\n",
    "    \n",
    "    def get_k_neighbours(self, user_id, k = 20, \n",
    "                         time_constraint=None,\n",
    "                         start_dt=None,\n",
    "                         end_dt=None,\n",
    "                         dt=None):\n",
    "        \n",
    "        # Apply Time Constraint and get user_correlations to each other as matrix\n",
    "        if time_constraint is None:\n",
    "            user_corr_matrix = self.user_corr_matrix\n",
    "        else:\n",
    "            user_corr_matrix = self.create_temporal_corr_matrix(time_constraint=time_constraint,\n",
    "                                                           dt=dt, start_dt=start_dt, end_dt=end_dt)\n",
    "        \n",
    "        # Exit if matrix is None\n",
    "        if user_corr_matrix is None:\n",
    "            return None\n",
    "        \n",
    "        # Get the 'user_id's sorrelations\n",
    "        user_corrs = user_corr_matrix.get(user_id)\n",
    "        if user_corrs is None:\n",
    "            return None\n",
    "\n",
    "        # Drop any null, if found\n",
    "        user_corrs.dropna(inplace=True)\n",
    "\n",
    "        # Create A dataframe from not-null correlations of the 'user_id'\n",
    "        users_alike = pd.DataFrame(user_corrs)\n",
    "\n",
    "        # Rename the only column to 'correlation'\n",
    "        users_alike.columns= ['correlation']\n",
    "\n",
    "        # Sort the user correlations in descending order \n",
    "        #     so that first one is the most similar, last one least similar\n",
    "        users_alike.sort_values(by='correlation', ascending=False, inplace=True)\n",
    "\n",
    "        # Eliminate Correlation to itself by deleting first row, \n",
    "        #     since biggest corr is with itself it is in first row\n",
    "        return users_alike.iloc[1:k]\n",
    "    \n",
    "    def predict_movie(self, user_id, movie_id, k = 10, \n",
    "                      time_constraint=None,\n",
    "                      start_dt=None,\n",
    "                      end_dt=None,\n",
    "                      dt=None):\n",
    "        \n",
    "        # If a movie with movie_id not exists, predict 0\n",
    "        if self.movie_ratings.loc[self.movie_ratings['item_id'] == movie_id] is None:\n",
    "            print(\"Movie Not Found!!\")\n",
    "            return 0\n",
    "\n",
    "        # Get Nearest Neighbours of the 'user_id'\n",
    "        k_nearest_neighbours = self.get_k_neighbours(user_id, k=k, \n",
    "                                                     time_constraint=time_constraint,\n",
    "                                                     start_dt=start_dt, end_dt=end_dt,\n",
    "                                                     dt=dt)\n",
    "\n",
    "        # Calculate Mean Centered Prediciton\n",
    "        user_avg_rating = self.get_user_avg_rating(user_id)\n",
    "        \n",
    "        #########################################################################\n",
    "        ##### IN CASE WE COULDNT FIND ENOUGH NEIGHBOURS, PREDICT AS HIS AVERAGE\n",
    "        if k_nearest_neighbours is None or k_nearest_neighbours.empty:\n",
    "            return 0 #user_avg_rating\n",
    "        #########################################################################\n",
    "        weighted_sum = 0.0\n",
    "        sum_of_weights = 0.0\n",
    "        for neighbour_id, data in k_nearest_neighbours.iterrows():\n",
    "            # Get each neighbour's correlation 'user_id' and her rating to 'movie_id' \n",
    "            neighbour_corr = data['correlation']\n",
    "            neighbour_data = self.movie_ratings.loc[(self.movie_ratings['user_id'] == neighbour_id) & (self.movie_ratings['item_id'] == movie_id)]\n",
    "            # If the neighbour doesnt give rating to the movie_id, pass this around of the loop\n",
    "            if neighbour_data.empty:\n",
    "                continue\n",
    "            neighbour_avg_rating = self.get_user_avg_rating(neighbour_id)\n",
    "            neighbour_rating = float(neighbour_data.rating)\n",
    "            neighbour_mean_centered_rating =  neighbour_rating - neighbour_avg_rating\n",
    "            # Calculate Weighted sum and sum of weights\n",
    "            weighted_sum += neighbour_mean_centered_rating * neighbour_corr\n",
    "            sum_of_weights += neighbour_corr\n",
    "\n",
    "        # Predict\n",
    "        if sum_of_weights != 0:\n",
    "            prediction_rating = user_avg_rating + (weighted_sum / sum_of_weights)\n",
    "        else:\n",
    "            #########################################################################\n",
    "            ##### IN CASE WE COULDNT FIND ENOUGH NEIGHBOURS THAT GIVEN RATING TO THE movie_id, PREDICT AS HIS AVERAGE\n",
    "            prediction_rating = 0 #user_avg_rating\n",
    "            #########################################################################\n",
    "            \n",
    "        return prediction_rating\n",
    "    \n",
    "    def is_temporal_cache_valid(self,\n",
    "                                time_constraint=None,\n",
    "                                start_dt=None,\n",
    "                                end_dt=None,\n",
    "                                dt=None):\n",
    "        \n",
    "        if self.temporal_time_constraint != time_constraint or time_constraint is None:\n",
    "            return False\n",
    "        \n",
    "        # If 'AT' constraint found and same as last calculated matrix constraints then cache valid\n",
    "        if time_constraint == PredictionTimeConstraint.AT and self.temporal_dt == dt:\n",
    "            return True\n",
    "        \n",
    "        # If 'IN' constraint found and same as last calculated matrix constraints then cache valid\n",
    "        if time_constraint == PredictionTimeConstraint.IN and self.temporal_start_dt == start_dt and self.temporal_end_dt == end_dt:\n",
    "            return True\n",
    "\n",
    "        # Otherwise cache invalid\n",
    "        return False\n",
    "    \n",
    "    def create_temporal_corr_matrix(self, time_constraint=PredictionTimeConstraint.NO,\n",
    "                                          start_dt=None,\n",
    "                                          end_dt=None,\n",
    "                                          dt=None):\n",
    "        \n",
    "        # Check cache, if valid return the cache\n",
    "        temporal_cache_status = self.is_temporal_cache_valid(time_constraint=time_constraint,start_dt=start_dt,end_dt=end_dt,dt=dt)\n",
    "        if temporal_cache_status == True:\n",
    "            return self.temporal_user_corr_matrix\n",
    "        \n",
    "        # No valid cache, recreate the correlations matrix \n",
    "        if time_constraint == PredictionTimeConstraint.AT and dt != None:\n",
    "            user_movie_matrix = self.movie_ratings[(self.movie_ratings.timestamp < dt)].pivot_table(index='title', columns='user_id', values='rating') \n",
    "        elif time_constraint == PredictionTimeConstraint.IN and start_dt != None and end_dt != None:\n",
    "            user_movie_matrix =  self.movie_ratings[(self.movie_ratings.timestamp >= start_dt) & (self.movie_ratings.timestamp < end_dt)].pivot_table(index='title', columns='user_id', values='rating') \n",
    "        else:\n",
    "            return None\n",
    "        \n",
    "        # Create CACHE\n",
    "        self.temporal_time_constraint = time_constraint\n",
    "        self.temporal_start_dt = start_dt\n",
    "        self.temporal_end_dt = end_dt\n",
    "        self.temporal_dt = dt\n",
    "        self.temporal_user_corr_matrix = user_movie_matrix.corr(method='pearson', min_periods=self.min_common_elements) \n",
    "        \n",
    "        return self.temporal_user_corr_matrix\n",
    "        \n",
    "    def get_user_rating(self, user_id):\n",
    "        return self.movie_ratings.loc[self.movie_ratings['user_id'] == user_id]\n",
    "\n",
    "    def get_user_rating_for_movie(self, user_id, movie_id):\n",
    "        try:\n",
    "            rating = self.movie_ratings.loc[ (self.movie_ratings['user_id'] == user_id) & (self.movie_ratings['item_id'] == movie_id) ].values[0,2]\n",
    "        except IndexError:\n",
    "            rating = 0\n",
    "        return rating \n",
    "\n",
    "    def get_rating_timestamp(self, user_id, movie_id):\n",
    "        return self.movie_ratings.loc[ (self.movie_ratings['user_id'] == user_id) & (self.movie_ratings['item_id'] == movie_id) ].values[0,3]\n",
    "\n",
    "    def get_movies_watched(self, user_id, year = 2015, month = 7, day = 15):\n",
    "        return self.movie_ratings.loc[((self.movie_ratings['user_id'] == user_id)) & (self.movie_ratings.timestamp < datetime(year, month, day))][['item_id','title','rating']].set_index('item_id')\n",
    "\n",
    "    def get_user_avg_rating(self, user_id):\n",
    "        return self.movie_ratings.loc[((self.movie_ratings['user_id'] == user_id))].rating.mean()\n",
    "\n",
    "    def get_user_avg_rating_at(self, user_id, year = 2015, month = 7, day = 15):\n",
    "        return self.movie_ratings.loc[((self.movie_ratings['user_id'] == user_id)) & (self.movie_ratings.timestamp < datetime(year, month, day))].rating.mean()\n",
    "    \n",
    "    \n",
    "    def get_movies_watched(self, user_id,\n",
    "                           time_constraint=None, \n",
    "                           dt=None, start_dt=None, end_dt=None):\n",
    "        if time_constraint == None or time_constraint == PredictionTimeConstraint.NO:\n",
    "            return self.movie_ratings.loc[(self.movie_ratings['user_id'] == user_id)][['item_id','rating']]\n",
    "        elif time_constraint == PredictionTimeConstraint.AT and dt != None:\n",
    "            return self.movie_ratings.loc[(self.movie_ratings['user_id'] == user_id) & (self.movie_ratings.timestamp < dt)][['item_id','rating']]\n",
    "        elif time_constraint == PredictionTimeConstraint.IN and start_dt != None and end_dt != None:\n",
    "            return self.movie_ratings.loc[(self.movie_ratings['user_id'] == user_id) & (self.movie_ratings.timestamp >= start_dt) & (self.movie_ratings.timestamp < end_dt)][['item_id','rating']]\n",
    "        else:\n",
    "            return None                                      # Unknown time constraint, exit the function\n",
    "    \n",
    "    def get_random_movie_watched(self, user_id):\n",
    "        return self.movie_ratings.loc[(self.movie_ratings['user_id'] == user_id)][['item_id']].iloc[0][0]\n",
    "    \n",
    "    def predict_movies_watched(self, user_id,\n",
    "                               n = 10,\n",
    "                               k = 10,\n",
    "                               time_constraint=None,\n",
    "                               dt = None,\n",
    "                               start_dt = None,\n",
    "                               end_dt = None):\n",
    "        \n",
    "        # Get all movies watched by a user\n",
    "        movies_watched = self.get_movies_watched(user_id)\n",
    "\n",
    "        if movies_watched is None or movies_watched.empty:\n",
    "            return None\n",
    "\n",
    "        predictions = list()\n",
    "        \n",
    "        number_of_predictions = 0\n",
    "        for _,row in movies_watched.iterrows():\n",
    "            prediction = self.predict_movie(user_id=user_id, movie_id=row['item_id'], \n",
    "                                              time_constraint=time_constraint, k=k,\n",
    "                                              start_dt=start_dt, end_dt=end_dt,dt=dt)\n",
    "            if number_of_predictions == n:\n",
    "                break\n",
    "            predictions.append([prediction,row['rating'],row['item_id']])\n",
    "            number_of_predictions += 1\n",
    "\n",
    "        predictions_df = pd.DataFrame(predictions, columns = ['prediction','rating', 'movie_id'])\n",
    "        predictions_df.movie_id = predictions_df.movie_id.astype(int)\n",
    "        return predictions_df.set_index('movie_id')\n",
    "    \n",
    "    ## Load Datasets\n",
    "    @staticmethod\n",
    "    def load_movielens_small():\n",
    "        col_names = ['user_id', 'item_id', 'rating', 'timestamp']\n",
    "        ratings = pd.read_csv(r'C:\\Users\\Yukawa\\datasets\\ml-latest-small\\ratings.csv', sep=',', header=1, names=col_names)\n",
    "\n",
    "        col_names = ['item_id', 'title', 'genres']\n",
    "        movies = pd.read_csv(r'C:\\Users\\Yukawa\\datasets\\ml-latest-small\\movies.csv', sep=',', header=0, names=col_names)\n",
    "        \n",
    "        movies['year'] = movies.title.str.extract(\"\\((\\d{4})\\)\", expand=True)\n",
    "        movies.year = pd.to_datetime(movies.year, format='%Y')\n",
    "        movies.year = movies.year.dt.year # As there are some NaN years, resulting type will be float (decimals)\n",
    "        movies.title = movies.title.str[:-7]\n",
    "\n",
    "        ratings['timestamp'] = pd.to_datetime(ratings['timestamp'], unit='s', origin='unix')\n",
    "\n",
    "        movie_ratings = pd.merge(ratings, movies, on='item_id')\n",
    "\n",
    "        return movie_ratings\n",
    "    \n",
    "    ## Accuracy Metrics\n",
    "    @staticmethod\n",
    "    def rmse(predictions_df):\n",
    "        number_of_predictions = predictions_df.count()\n",
    "        sum_of_square_differences = 0.0\n",
    "        for _,row in predictions_df.iterrows():\n",
    "            prediction_rating = row['prediction'] \n",
    "            if prediction_rating != 0:\n",
    "                sum_of_square_differences += (row['rating'] - prediction_rating) ** 2\n",
    "        result = sum_of_square_differences/number_of_predictions\n",
    "        return result[0]"
   ]
  },
  {
   "cell_type": "code",
   "execution_count": 3,
   "metadata": {},
   "outputs": [],
   "source": [
    "movie_ratings = RecSys.load_movielens_small()"
   ]
  },
  {
   "cell_type": "code",
   "execution_count": 4,
   "metadata": {},
   "outputs": [
    {
     "data": {
      "text/html": [
       "<div>\n",
       "<style scoped>\n",
       "    .dataframe tbody tr th:only-of-type {\n",
       "        vertical-align: middle;\n",
       "    }\n",
       "\n",
       "    .dataframe tbody tr th {\n",
       "        vertical-align: top;\n",
       "    }\n",
       "\n",
       "    .dataframe thead th {\n",
       "        text-align: right;\n",
       "    }\n",
       "</style>\n",
       "<table border=\"1\" class=\"dataframe\">\n",
       "  <thead>\n",
       "    <tr style=\"text-align: right;\">\n",
       "      <th></th>\n",
       "      <th>user_id</th>\n",
       "      <th>item_id</th>\n",
       "      <th>rating</th>\n",
       "      <th>timestamp</th>\n",
       "      <th>title</th>\n",
       "      <th>genres</th>\n",
       "      <th>year</th>\n",
       "    </tr>\n",
       "  </thead>\n",
       "  <tbody>\n",
       "    <tr>\n",
       "      <th>0</th>\n",
       "      <td>1</td>\n",
       "      <td>3</td>\n",
       "      <td>4.0</td>\n",
       "      <td>2000-07-30 18:20:47</td>\n",
       "      <td>Grumpier Old Men</td>\n",
       "      <td>Comedy|Romance</td>\n",
       "      <td>1995.0</td>\n",
       "    </tr>\n",
       "    <tr>\n",
       "      <th>1</th>\n",
       "      <td>6</td>\n",
       "      <td>3</td>\n",
       "      <td>5.0</td>\n",
       "      <td>1996-10-17 12:11:36</td>\n",
       "      <td>Grumpier Old Men</td>\n",
       "      <td>Comedy|Romance</td>\n",
       "      <td>1995.0</td>\n",
       "    </tr>\n",
       "    <tr>\n",
       "      <th>2</th>\n",
       "      <td>19</td>\n",
       "      <td>3</td>\n",
       "      <td>3.0</td>\n",
       "      <td>2000-08-08 04:07:16</td>\n",
       "      <td>Grumpier Old Men</td>\n",
       "      <td>Comedy|Romance</td>\n",
       "      <td>1995.0</td>\n",
       "    </tr>\n",
       "    <tr>\n",
       "      <th>3</th>\n",
       "      <td>32</td>\n",
       "      <td>3</td>\n",
       "      <td>3.0</td>\n",
       "      <td>1997-02-23 22:16:12</td>\n",
       "      <td>Grumpier Old Men</td>\n",
       "      <td>Comedy|Romance</td>\n",
       "      <td>1995.0</td>\n",
       "    </tr>\n",
       "    <tr>\n",
       "      <th>4</th>\n",
       "      <td>42</td>\n",
       "      <td>3</td>\n",
       "      <td>4.0</td>\n",
       "      <td>2001-07-27 08:04:05</td>\n",
       "      <td>Grumpier Old Men</td>\n",
       "      <td>Comedy|Romance</td>\n",
       "      <td>1995.0</td>\n",
       "    </tr>\n",
       "  </tbody>\n",
       "</table>\n",
       "</div>"
      ],
      "text/plain": [
       "   user_id  item_id  rating           timestamp             title  \\\n",
       "0        1        3     4.0 2000-07-30 18:20:47  Grumpier Old Men   \n",
       "1        6        3     5.0 1996-10-17 12:11:36  Grumpier Old Men   \n",
       "2       19        3     3.0 2000-08-08 04:07:16  Grumpier Old Men   \n",
       "3       32        3     3.0 1997-02-23 22:16:12  Grumpier Old Men   \n",
       "4       42        3     4.0 2001-07-27 08:04:05  Grumpier Old Men   \n",
       "\n",
       "           genres    year  \n",
       "0  Comedy|Romance  1995.0  \n",
       "1  Comedy|Romance  1995.0  \n",
       "2  Comedy|Romance  1995.0  \n",
       "3  Comedy|Romance  1995.0  \n",
       "4  Comedy|Romance  1995.0  "
      ]
     },
     "execution_count": 4,
     "metadata": {},
     "output_type": "execute_result"
    }
   ],
   "source": [
    "movie_ratings.head()"
   ]
  },
  {
   "cell_type": "markdown",
   "metadata": {},
   "source": [
    "## Most Active Users"
   ]
  },
  {
   "cell_type": "code",
   "execution_count": 5,
   "metadata": {
    "scrolled": true
   },
   "outputs": [
    {
     "data": {
      "text/html": [
       "<div>\n",
       "<style scoped>\n",
       "    .dataframe tbody tr th:only-of-type {\n",
       "        vertical-align: middle;\n",
       "    }\n",
       "\n",
       "    .dataframe tbody tr th {\n",
       "        vertical-align: top;\n",
       "    }\n",
       "\n",
       "    .dataframe thead th {\n",
       "        text-align: right;\n",
       "    }\n",
       "</style>\n",
       "<table border=\"1\" class=\"dataframe\">\n",
       "  <thead>\n",
       "    <tr style=\"text-align: right;\">\n",
       "      <th></th>\n",
       "      <th>rating</th>\n",
       "      <th>No_of_ratings</th>\n",
       "    </tr>\n",
       "    <tr>\n",
       "      <th>user_id</th>\n",
       "      <th></th>\n",
       "      <th></th>\n",
       "    </tr>\n",
       "  </thead>\n",
       "  <tbody>\n",
       "    <tr>\n",
       "      <th>414</th>\n",
       "      <td>3.391957</td>\n",
       "      <td>2698</td>\n",
       "    </tr>\n",
       "    <tr>\n",
       "      <th>599</th>\n",
       "      <td>2.642050</td>\n",
       "      <td>2478</td>\n",
       "    </tr>\n",
       "    <tr>\n",
       "      <th>474</th>\n",
       "      <td>3.398956</td>\n",
       "      <td>2108</td>\n",
       "    </tr>\n",
       "    <tr>\n",
       "      <th>448</th>\n",
       "      <td>2.847371</td>\n",
       "      <td>1864</td>\n",
       "    </tr>\n",
       "    <tr>\n",
       "      <th>274</th>\n",
       "      <td>3.235884</td>\n",
       "      <td>1346</td>\n",
       "    </tr>\n",
       "    <tr>\n",
       "      <th>610</th>\n",
       "      <td>3.688556</td>\n",
       "      <td>1302</td>\n",
       "    </tr>\n",
       "    <tr>\n",
       "      <th>68</th>\n",
       "      <td>3.233730</td>\n",
       "      <td>1260</td>\n",
       "    </tr>\n",
       "    <tr>\n",
       "      <th>380</th>\n",
       "      <td>3.673235</td>\n",
       "      <td>1218</td>\n",
       "    </tr>\n",
       "    <tr>\n",
       "      <th>606</th>\n",
       "      <td>3.657399</td>\n",
       "      <td>1115</td>\n",
       "    </tr>\n",
       "    <tr>\n",
       "      <th>288</th>\n",
       "      <td>3.145972</td>\n",
       "      <td>1055</td>\n",
       "    </tr>\n",
       "  </tbody>\n",
       "</table>\n",
       "</div>"
      ],
      "text/plain": [
       "           rating  No_of_ratings\n",
       "user_id                         \n",
       "414      3.391957           2698\n",
       "599      2.642050           2478\n",
       "474      3.398956           2108\n",
       "448      2.847371           1864\n",
       "274      3.235884           1346\n",
       "610      3.688556           1302\n",
       "68       3.233730           1260\n",
       "380      3.673235           1218\n",
       "606      3.657399           1115\n",
       "288      3.145972           1055"
      ]
     },
     "execution_count": 5,
     "metadata": {},
     "output_type": "execute_result"
    }
   ],
   "source": [
    "active_user_ratings = pd.DataFrame(movie_ratings.groupby('user_id')['rating'].mean())\n",
    "active_user_ratings['No_of_ratings'] = pd.DataFrame(movie_ratings.groupby('user_id')['rating'].count())\n",
    "active_user_ratings.sort_values(by=['No_of_ratings'], ascending=False).head(10)"
   ]
  },
  {
   "cell_type": "code",
   "execution_count": 6,
   "metadata": {},
   "outputs": [],
   "source": [
    "%reset_selective -f (^active_user_ratings$)"
   ]
  },
  {
   "cell_type": "markdown",
   "metadata": {},
   "source": [
    "## Evaluator"
   ]
  },
  {
   "cell_type": "code",
   "execution_count": 7,
   "metadata": {},
   "outputs": [],
   "source": [
    "evaluator = RecSys(movie_ratings_data=movie_ratings, min_common_elements=5)"
   ]
  },
  {
   "cell_type": "code",
   "execution_count": 8,
   "metadata": {},
   "outputs": [
    {
     "data": {
      "text/html": [
       "<div>\n",
       "<style scoped>\n",
       "    .dataframe tbody tr th:only-of-type {\n",
       "        vertical-align: middle;\n",
       "    }\n",
       "\n",
       "    .dataframe tbody tr th {\n",
       "        vertical-align: top;\n",
       "    }\n",
       "\n",
       "    .dataframe thead th {\n",
       "        text-align: right;\n",
       "    }\n",
       "</style>\n",
       "<table border=\"1\" class=\"dataframe\">\n",
       "  <thead>\n",
       "    <tr style=\"text-align: right;\">\n",
       "      <th></th>\n",
       "      <th>prediction</th>\n",
       "      <th>rating</th>\n",
       "    </tr>\n",
       "    <tr>\n",
       "      <th>movie_id</th>\n",
       "      <th></th>\n",
       "      <th></th>\n",
       "    </tr>\n",
       "  </thead>\n",
       "  <tbody>\n",
       "    <tr>\n",
       "      <th>3</th>\n",
       "      <td>0.000000</td>\n",
       "      <td>4.0</td>\n",
       "    </tr>\n",
       "    <tr>\n",
       "      <th>6</th>\n",
       "      <td>0.000000</td>\n",
       "      <td>3.0</td>\n",
       "    </tr>\n",
       "    <tr>\n",
       "      <th>47</th>\n",
       "      <td>4.166467</td>\n",
       "      <td>4.0</td>\n",
       "    </tr>\n",
       "    <tr>\n",
       "      <th>50</th>\n",
       "      <td>4.206210</td>\n",
       "      <td>5.0</td>\n",
       "    </tr>\n",
       "    <tr>\n",
       "      <th>101</th>\n",
       "      <td>0.000000</td>\n",
       "      <td>4.0</td>\n",
       "    </tr>\n",
       "    <tr>\n",
       "      <th>110</th>\n",
       "      <td>3.687791</td>\n",
       "      <td>5.0</td>\n",
       "    </tr>\n",
       "    <tr>\n",
       "      <th>151</th>\n",
       "      <td>0.000000</td>\n",
       "      <td>5.0</td>\n",
       "    </tr>\n",
       "    <tr>\n",
       "      <th>157</th>\n",
       "      <td>0.000000</td>\n",
       "      <td>4.0</td>\n",
       "    </tr>\n",
       "    <tr>\n",
       "      <th>163</th>\n",
       "      <td>3.688742</td>\n",
       "      <td>4.0</td>\n",
       "    </tr>\n",
       "    <tr>\n",
       "      <th>216</th>\n",
       "      <td>0.000000</td>\n",
       "      <td>3.0</td>\n",
       "    </tr>\n",
       "  </tbody>\n",
       "</table>\n",
       "</div>"
      ],
      "text/plain": [
       "          prediction  rating\n",
       "movie_id                    \n",
       "3           0.000000     4.0\n",
       "6           0.000000     3.0\n",
       "47          4.166467     4.0\n",
       "50          4.206210     5.0\n",
       "101         0.000000     4.0\n",
       "110         3.687791     5.0\n",
       "151         0.000000     5.0\n",
       "157         0.000000     4.0\n",
       "163         3.688742     4.0\n",
       "216         0.000000     3.0"
      ]
     },
     "execution_count": 8,
     "metadata": {},
     "output_type": "execute_result"
    }
   ],
   "source": [
    "evaluator.predict_movies_watched(user_id=414, k=10)"
   ]
  },
  {
   "cell_type": "code",
   "execution_count": 9,
   "metadata": {},
   "outputs": [
    {
     "data": {
      "text/plain": [
       "0.2476589017082173"
      ]
     },
     "execution_count": 9,
     "metadata": {},
     "output_type": "execute_result"
    }
   ],
   "source": [
    "RecSys.rmse(evaluator.predict_movies_watched(user_id=414, k=10))"
   ]
  },
  {
   "cell_type": "code",
   "execution_count": 10,
   "metadata": {},
   "outputs": [
    {
     "data": {
      "text/plain": [
       "2.3876879699248117"
      ]
     },
     "execution_count": 10,
     "metadata": {},
     "output_type": "execute_result"
    }
   ],
   "source": [
    "evaluator.predict_movie(449, 3, time_constraint=PredictionTimeConstraint.AT, dt=datetime(2015,7,15))"
   ]
  },
  {
   "cell_type": "code",
   "execution_count": 11,
   "metadata": {},
   "outputs": [
    {
     "data": {
      "text/plain": [
       "3.0239916372236606"
      ]
     },
     "execution_count": 11,
     "metadata": {},
     "output_type": "execute_result"
    }
   ],
   "source": [
    "evaluator.predict_movie(user_id=414, movie_id=3, k=20, time_constraint=PredictionTimeConstraint.IN, start_dt=datetime(2000,7,15), end_dt=datetime(2018,7,15))"
   ]
  },
  {
   "cell_type": "code",
   "execution_count": 12,
   "metadata": {},
   "outputs": [
    {
     "data": {
      "text/plain": [
       "2.987779546119328"
      ]
     },
     "execution_count": 12,
     "metadata": {},
     "output_type": "execute_result"
    }
   ],
   "source": [
    "evaluator.predict_movie(user_id=414,movie_id=3, k=50,time_constraint=PredictionTimeConstraint.IN, start_dt=datetime(2000,7,15), end_dt=datetime(2018,7,15))"
   ]
  },
  {
   "cell_type": "code",
   "execution_count": 13,
   "metadata": {},
   "outputs": [
    {
     "data": {
      "text/html": [
       "<div>\n",
       "<style scoped>\n",
       "    .dataframe tbody tr th:only-of-type {\n",
       "        vertical-align: middle;\n",
       "    }\n",
       "\n",
       "    .dataframe tbody tr th {\n",
       "        vertical-align: top;\n",
       "    }\n",
       "\n",
       "    .dataframe thead th {\n",
       "        text-align: right;\n",
       "    }\n",
       "</style>\n",
       "<table border=\"1\" class=\"dataframe\">\n",
       "  <thead>\n",
       "    <tr style=\"text-align: right;\">\n",
       "      <th></th>\n",
       "      <th>prediction</th>\n",
       "      <th>rating</th>\n",
       "    </tr>\n",
       "    <tr>\n",
       "      <th>movie_id</th>\n",
       "      <th></th>\n",
       "      <th></th>\n",
       "    </tr>\n",
       "  </thead>\n",
       "  <tbody>\n",
       "    <tr>\n",
       "      <th>6</th>\n",
       "      <td>3.850931</td>\n",
       "      <td>4.5</td>\n",
       "    </tr>\n",
       "    <tr>\n",
       "      <th>47</th>\n",
       "      <td>3.993664</td>\n",
       "      <td>4.0</td>\n",
       "    </tr>\n",
       "    <tr>\n",
       "      <th>50</th>\n",
       "      <td>4.430692</td>\n",
       "      <td>4.5</td>\n",
       "    </tr>\n",
       "    <tr>\n",
       "      <th>70</th>\n",
       "      <td>2.772934</td>\n",
       "      <td>4.5</td>\n",
       "    </tr>\n",
       "    <tr>\n",
       "      <th>110</th>\n",
       "      <td>4.196354</td>\n",
       "      <td>3.5</td>\n",
       "    </tr>\n",
       "    <tr>\n",
       "      <th>163</th>\n",
       "      <td>3.696871</td>\n",
       "      <td>3.5</td>\n",
       "    </tr>\n",
       "    <tr>\n",
       "      <th>223</th>\n",
       "      <td>3.836557</td>\n",
       "      <td>4.5</td>\n",
       "    </tr>\n",
       "    <tr>\n",
       "      <th>231</th>\n",
       "      <td>3.259759</td>\n",
       "      <td>0.5</td>\n",
       "    </tr>\n",
       "    <tr>\n",
       "      <th>235</th>\n",
       "      <td>4.599588</td>\n",
       "      <td>4.5</td>\n",
       "    </tr>\n",
       "    <tr>\n",
       "      <th>260</th>\n",
       "      <td>4.539081</td>\n",
       "      <td>3.5</td>\n",
       "    </tr>\n",
       "  </tbody>\n",
       "</table>\n",
       "</div>"
      ],
      "text/plain": [
       "          prediction  rating\n",
       "movie_id                    \n",
       "6           3.850931     4.5\n",
       "47          3.993664     4.0\n",
       "50          4.430692     4.5\n",
       "70          2.772934     4.5\n",
       "110         4.196354     3.5\n",
       "163         3.696871     3.5\n",
       "223         3.836557     4.5\n",
       "231         3.259759     0.5\n",
       "235         4.599588     4.5\n",
       "260         4.539081     3.5"
      ]
     },
     "execution_count": 13,
     "metadata": {},
     "output_type": "execute_result"
    }
   ],
   "source": [
    "evaluator.predict_movies_watched(user_id=182, k=50, \n",
    "                       time_constraint=PredictionTimeConstraint.IN,\n",
    "                       start_dt=datetime(2000,5,12), end_dt=datetime(2005,1,15))"
   ]
  },
  {
   "cell_type": "code",
   "execution_count": 14,
   "metadata": {},
   "outputs": [
    {
     "data": {
      "text/plain": [
       "1.3078596127156936"
      ]
     },
     "execution_count": 14,
     "metadata": {},
     "output_type": "execute_result"
    }
   ],
   "source": [
    "RecSys.rmse(evaluator.predict_movies_watched(user_id=182, k=50, \n",
    "                       time_constraint=PredictionTimeConstraint.IN,\n",
    "                       start_dt=datetime(2000,5,12), end_dt=datetime(2005,1,15)))"
   ]
  },
  {
   "cell_type": "code",
   "execution_count": 15,
   "metadata": {},
   "outputs": [
    {
     "data": {
      "text/plain": [
       "1.3157696554561307"
      ]
     },
     "execution_count": 15,
     "metadata": {},
     "output_type": "execute_result"
    }
   ],
   "source": [
    "RecSys.rmse(evaluator.predict_movies_watched(user_id=182, k=100,                       \n",
    "                       time_constraint=PredictionTimeConstraint.IN,\n",
    "                       start_dt=datetime(2000,5,12), end_dt=datetime(2005,1,15)))"
   ]
  },
  {
   "cell_type": "code",
   "execution_count": 16,
   "metadata": {},
   "outputs": [
    {
     "data": {
      "text/plain": [
       "1.3545725301140958"
      ]
     },
     "execution_count": 16,
     "metadata": {},
     "output_type": "execute_result"
    }
   ],
   "source": [
    "RecSys.rmse(evaluator.predict_movies_watched(user_id=182, k=1000,                       \n",
    "                       time_constraint=PredictionTimeConstraint.IN,\n",
    "                       start_dt=datetime(2000,5,12), end_dt=datetime(2005,1,15)))"
   ]
  },
  {
   "cell_type": "markdown",
   "metadata": {},
   "source": [
    "## Some Helper Functions"
   ]
  },
  {
   "cell_type": "code",
   "execution_count": 17,
   "metadata": {},
   "outputs": [],
   "source": [
    "def get_random_n_users(n):\n",
    "    users = list()\n",
    "    for i in range(n):\n",
    "        users.append(random.randint(1,610))\n",
    "    return users"
   ]
  },
  {
   "cell_type": "code",
   "execution_count": 18,
   "metadata": {},
   "outputs": [
    {
     "data": {
      "text/plain": [
       "[455, 534, 150, 100, 83, 94, 425, 41, 117, 427]"
      ]
     },
     "execution_count": 18,
     "metadata": {},
     "output_type": "execute_result"
    }
   ],
   "source": [
    "get_random_n_users(10)"
   ]
  },
  {
   "cell_type": "code",
   "execution_count": 19,
   "metadata": {},
   "outputs": [],
   "source": [
    "def get_random_movie_per_user(user_list):\n",
    "    user_movie_list = list()\n",
    "    for user_id in user_list:\n",
    "        movie_id = evaluator.get_random_movie_watched(user_id)\n",
    "        user_movie_list.append((user_id,movie_id))\n",
    "    return user_movie_list"
   ]
  },
  {
   "cell_type": "code",
   "execution_count": 20,
   "metadata": {},
   "outputs": [
    {
     "data": {
      "text/plain": [
       "[(8, 47),\n",
       " (159, 110),\n",
       " (192, 47),\n",
       " (43, 3),\n",
       " (327, 50),\n",
       " (394, 50),\n",
       " (58, 3),\n",
       " (445, 47),\n",
       " (236, 1214),\n",
       " (279, 50)]"
      ]
     },
     "execution_count": 20,
     "metadata": {},
     "output_type": "execute_result"
    }
   ],
   "source": [
    "get_random_movie_per_user(get_random_n_users(10))"
   ]
  },
  {
   "cell_type": "code",
   "execution_count": 21,
   "metadata": {},
   "outputs": [],
   "source": [
    "def RMSE(predictions):\n",
    "    number_of_predictions = len(predictions)\n",
    "    sum_of_square_differences = 0.0\n",
    "    for prediction,actual in predictions:\n",
    "        sum_of_square_differences += (actual - prediction) ** 2\n",
    "    result = sum_of_square_differences/number_of_predictions\n",
    "    return result"
   ]
  },
  {
   "cell_type": "markdown",
   "metadata": {},
   "source": [
    "## Compare 'AT Constraint' and 'NO Constraint' on time interval"
   ]
  },
  {
   "cell_type": "code",
   "execution_count": 22,
   "metadata": {},
   "outputs": [],
   "source": [
    "def find_best_year_constraint(n, rmse_diff_limit):\n",
    "    min_year = movie_ratings['timestamp'].min().year + 5 ## No need to scan first 5 years, so less ratings, no meaning of filter\n",
    "    max_year = datetime.now().year\n",
    "    \n",
    "    user_list = get_random_n_users(n)\n",
    "    \n",
    "    winner_year = min_year\n",
    "    winner_vote_count = 0\n",
    "\n",
    "    # For Each Year\n",
    "    for year in range(min_year, max_year):\n",
    "        vote_count = 0                          # Keep track of votes per year, the one who gets most, wins\n",
    "        for user_id in user_list:\n",
    "            rmse_no_constraint = RecSys.rmse(evaluator.predict_movies_watched(user_id=user_id, k=10))\n",
    "            rmse_with_constraint = RecSys.rmse(evaluator.predict_movies_watched(user_id=user_id, k=10, dt=datetime(year,1,15),\n",
    "                                                                   time_constraint=PredictionTimeConstraint.AT))\n",
    "            if abs(rmse_no_constraint - rmse_with_constraint) <= rmse_diff_limit:\n",
    "                vote_count += 1\n",
    "        \n",
    "        if vote_count > winner_vote_count:\n",
    "            winner_year = year\n",
    "            winner_vote_count = vote_count\n",
    "            \n",
    "    return winner_year"
   ]
  },
  {
   "cell_type": "code",
   "execution_count": 23,
   "metadata": {},
   "outputs": [
    {
     "data": {
      "text/plain": [
       "2019"
      ]
     },
     "execution_count": 23,
     "metadata": {},
     "output_type": "execute_result"
    }
   ],
   "source": [
    "find_best_year_constraint(5,0.1)"
   ]
  },
  {
   "cell_type": "code",
   "execution_count": 24,
   "metadata": {},
   "outputs": [],
   "source": [
    "def compare_no_time_constraint_and_at_constraint(number_of_users, year_constraint=2016):\n",
    "    \"\"\"\n",
    "    For Random 'number_of_users' Users\n",
    "    Calculate rmse without any time constraint\n",
    "    Calculate rmse with time constraint\n",
    "    return as dataframe and also include runtime's of the calculations\n",
    "    \"\"\"\n",
    "    results = list()    \n",
    "    for i in range(number_of_users):\n",
    "        user_id = random.randint(1,610)\n",
    "        \n",
    "        st = default_timer()\n",
    "        rmse_no_constraint = RecSys.rmse(evaluator.predict_movies_watched(user_id=user_id, k=10))\n",
    "        runtime_no_constraint = default_timer() - st\n",
    "        \n",
    "        st = default_timer()\n",
    "        rmse_with_constraint = RecSys.rmse(evaluator.predict_movies_watched(user_id=user_id, k=10,\n",
    "                                                                       time_constraint=PredictionTimeConstraint.AT,\n",
    "                                                                       dt=datetime(year_constraint,7,15)))\n",
    "        runtime_with_constraint = default_timer() - st\n",
    "        \n",
    "        results.append([user_id,rmse_no_constraint,runtime_no_constraint,rmse_with_constraint,runtime_with_constraint])\n",
    "    results = pd.DataFrame(results)\n",
    "    results.columns= ['user_id','rmse','runtime1','temporal_rmse','runtime2']\n",
    "    results.set_index('user_id', inplace=True)\n",
    "    return results"
   ]
  },
  {
   "cell_type": "code",
   "execution_count": 25,
   "metadata": {},
   "outputs": [
    {
     "data": {
      "text/html": [
       "<div>\n",
       "<style scoped>\n",
       "    .dataframe tbody tr th:only-of-type {\n",
       "        vertical-align: middle;\n",
       "    }\n",
       "\n",
       "    .dataframe tbody tr th {\n",
       "        vertical-align: top;\n",
       "    }\n",
       "\n",
       "    .dataframe thead th {\n",
       "        text-align: right;\n",
       "    }\n",
       "</style>\n",
       "<table border=\"1\" class=\"dataframe\">\n",
       "  <thead>\n",
       "    <tr style=\"text-align: right;\">\n",
       "      <th></th>\n",
       "      <th>rmse</th>\n",
       "      <th>runtime1</th>\n",
       "      <th>temporal_rmse</th>\n",
       "      <th>runtime2</th>\n",
       "    </tr>\n",
       "    <tr>\n",
       "      <th>user_id</th>\n",
       "      <th></th>\n",
       "      <th></th>\n",
       "      <th></th>\n",
       "      <th></th>\n",
       "    </tr>\n",
       "  </thead>\n",
       "  <tbody>\n",
       "    <tr>\n",
       "      <th>347</th>\n",
       "      <td>0.423550</td>\n",
       "      <td>0.145340</td>\n",
       "      <td>0.365144</td>\n",
       "      <td>3.105437</td>\n",
       "    </tr>\n",
       "    <tr>\n",
       "      <th>73</th>\n",
       "      <td>0.849253</td>\n",
       "      <td>0.138997</td>\n",
       "      <td>0.849253</td>\n",
       "      <td>0.136908</td>\n",
       "    </tr>\n",
       "    <tr>\n",
       "      <th>402</th>\n",
       "      <td>0.170830</td>\n",
       "      <td>0.146352</td>\n",
       "      <td>0.268347</td>\n",
       "      <td>0.151886</td>\n",
       "    </tr>\n",
       "    <tr>\n",
       "      <th>185</th>\n",
       "      <td>0.377303</td>\n",
       "      <td>0.145933</td>\n",
       "      <td>0.377303</td>\n",
       "      <td>0.146426</td>\n",
       "    </tr>\n",
       "    <tr>\n",
       "      <th>117</th>\n",
       "      <td>0.114438</td>\n",
       "      <td>0.140659</td>\n",
       "      <td>0.520503</td>\n",
       "      <td>0.142233</td>\n",
       "    </tr>\n",
       "    <tr>\n",
       "      <th>319</th>\n",
       "      <td>0.107415</td>\n",
       "      <td>0.159889</td>\n",
       "      <td>0.249598</td>\n",
       "      <td>0.157497</td>\n",
       "    </tr>\n",
       "    <tr>\n",
       "      <th>587</th>\n",
       "      <td>0.055567</td>\n",
       "      <td>0.145095</td>\n",
       "      <td>0.011914</td>\n",
       "      <td>0.147115</td>\n",
       "    </tr>\n",
       "    <tr>\n",
       "      <th>512</th>\n",
       "      <td>0.201527</td>\n",
       "      <td>0.151974</td>\n",
       "      <td>0.094848</td>\n",
       "      <td>0.157448</td>\n",
       "    </tr>\n",
       "    <tr>\n",
       "      <th>509</th>\n",
       "      <td>0.023401</td>\n",
       "      <td>0.148480</td>\n",
       "      <td>0.023401</td>\n",
       "      <td>0.147524</td>\n",
       "    </tr>\n",
       "    <tr>\n",
       "      <th>312</th>\n",
       "      <td>0.075482</td>\n",
       "      <td>0.160982</td>\n",
       "      <td>0.084749</td>\n",
       "      <td>0.155533</td>\n",
       "    </tr>\n",
       "    <tr>\n",
       "      <th>173</th>\n",
       "      <td>0.349916</td>\n",
       "      <td>0.163176</td>\n",
       "      <td>0.443618</td>\n",
       "      <td>0.163506</td>\n",
       "    </tr>\n",
       "    <tr>\n",
       "      <th>347</th>\n",
       "      <td>0.423550</td>\n",
       "      <td>0.145227</td>\n",
       "      <td>0.365144</td>\n",
       "      <td>0.149895</td>\n",
       "    </tr>\n",
       "    <tr>\n",
       "      <th>580</th>\n",
       "      <td>0.152472</td>\n",
       "      <td>0.140609</td>\n",
       "      <td>0.152472</td>\n",
       "      <td>0.141475</td>\n",
       "    </tr>\n",
       "    <tr>\n",
       "      <th>232</th>\n",
       "      <td>0.110149</td>\n",
       "      <td>0.142281</td>\n",
       "      <td>0.110149</td>\n",
       "      <td>0.143333</td>\n",
       "    </tr>\n",
       "    <tr>\n",
       "      <th>585</th>\n",
       "      <td>0.501071</td>\n",
       "      <td>0.146078</td>\n",
       "      <td>0.540325</td>\n",
       "      <td>0.151930</td>\n",
       "    </tr>\n",
       "    <tr>\n",
       "      <th>347</th>\n",
       "      <td>0.423550</td>\n",
       "      <td>0.144641</td>\n",
       "      <td>0.365144</td>\n",
       "      <td>0.149746</td>\n",
       "    </tr>\n",
       "    <tr>\n",
       "      <th>344</th>\n",
       "      <td>1.082238</td>\n",
       "      <td>0.150546</td>\n",
       "      <td>0.996342</td>\n",
       "      <td>0.150783</td>\n",
       "    </tr>\n",
       "    <tr>\n",
       "      <th>305</th>\n",
       "      <td>0.099227</td>\n",
       "      <td>0.148196</td>\n",
       "      <td>0.348072</td>\n",
       "      <td>0.152166</td>\n",
       "    </tr>\n",
       "    <tr>\n",
       "      <th>327</th>\n",
       "      <td>0.263755</td>\n",
       "      <td>0.151697</td>\n",
       "      <td>0.263755</td>\n",
       "      <td>0.149712</td>\n",
       "    </tr>\n",
       "    <tr>\n",
       "      <th>541</th>\n",
       "      <td>1.182321</td>\n",
       "      <td>0.153597</td>\n",
       "      <td>1.176526</td>\n",
       "      <td>0.154032</td>\n",
       "    </tr>\n",
       "  </tbody>\n",
       "</table>\n",
       "</div>"
      ],
      "text/plain": [
       "             rmse  runtime1  temporal_rmse  runtime2\n",
       "user_id                                             \n",
       "347      0.423550  0.145340       0.365144  3.105437\n",
       "73       0.849253  0.138997       0.849253  0.136908\n",
       "402      0.170830  0.146352       0.268347  0.151886\n",
       "185      0.377303  0.145933       0.377303  0.146426\n",
       "117      0.114438  0.140659       0.520503  0.142233\n",
       "319      0.107415  0.159889       0.249598  0.157497\n",
       "587      0.055567  0.145095       0.011914  0.147115\n",
       "512      0.201527  0.151974       0.094848  0.157448\n",
       "509      0.023401  0.148480       0.023401  0.147524\n",
       "312      0.075482  0.160982       0.084749  0.155533\n",
       "173      0.349916  0.163176       0.443618  0.163506\n",
       "347      0.423550  0.145227       0.365144  0.149895\n",
       "580      0.152472  0.140609       0.152472  0.141475\n",
       "232      0.110149  0.142281       0.110149  0.143333\n",
       "585      0.501071  0.146078       0.540325  0.151930\n",
       "347      0.423550  0.144641       0.365144  0.149746\n",
       "344      1.082238  0.150546       0.996342  0.150783\n",
       "305      0.099227  0.148196       0.348072  0.152166\n",
       "327      0.263755  0.151697       0.263755  0.149712\n",
       "541      1.182321  0.153597       1.176526  0.154032"
      ]
     },
     "execution_count": 25,
     "metadata": {},
     "output_type": "execute_result"
    }
   ],
   "source": [
    "compare_no_time_constraint_and_at_constraint(20)"
   ]
  },
  {
   "cell_type": "markdown",
   "metadata": {},
   "source": [
    "## Compare Periods and Their Performance"
   ]
  },
  {
   "cell_type": "code",
   "execution_count": 26,
   "metadata": {},
   "outputs": [],
   "source": [
    "def compare_decay_periods(n,k=10):\n",
    "    min_year = movie_ratings['timestamp'].min().year\n",
    "    max_year = datetime.now().year\n",
    "    \n",
    "    user_list = get_random_n_users(n)\n",
    "    user_movie_pair_list = get_random_movie_per_user(user_list)\n",
    "    \n",
    "    # Calculate RMSE for each period in between [2,10)\n",
    "    for period in range(2,10):\n",
    "        curr_year = min_year\n",
    "        predictions = list()\n",
    "        start_dt = default_timer()\n",
    "        while (curr_year+period) < max_year:\n",
    "            for user_id, movie_id in user_movie_pair_list:\n",
    "                prediction = evaluator.predict_movie(user_id=user_id, movie_id=movie_id, k=k,\n",
    "                                                     start_dt=datetime(curr_year,1,15),\n",
    "                                                     end_dt = datetime(curr_year+period,1,15),\n",
    "                                                     time_constraint=PredictionTimeConstraint.IN)\n",
    "                if prediction != 0:\n",
    "                    rating = evaluator.get_user_rating_for_movie(user_id=user_id,movie_id=movie_id)\n",
    "                    predictions.append((prediction, rating))\n",
    "                    #print(f\"Period={period} interval=({curr_year},{curr_year+period}) prediction={prediction} actual={rating} user_id={user_id} movie_id={movie_id}\")\n",
    "            curr_year += period\n",
    "        runtime = default_timer() - start_dt\n",
    "        period_rmse = RMSE(predictions)\n",
    "        print(f\"\\nPeriod={period} RMSE = {period_rmse} RunTime(Seconds) = {runtime}\\n\")"
   ]
  },
  {
   "cell_type": "code",
   "execution_count": 27,
   "metadata": {
    "scrolled": false
   },
   "outputs": [
    {
     "name": "stdout",
     "output_type": "stream",
     "text": [
      "\n",
      "Period=2 RMSE = 5.265386655910681 RunTime(Seconds) = 3.1183479000000034\n",
      "\n",
      "\n",
      "Period=3 RMSE = 0.6198498025769944 RunTime(Seconds) = 2.3948548000000045\n",
      "\n",
      "\n",
      "Period=4 RMSE = 0.6081516429636621 RunTime(Seconds) = 2.110916000000003\n",
      "\n",
      "\n",
      "Period=5 RMSE = 0.5325874281728614 RunTime(Seconds) = 2.0758821999999952\n",
      "\n",
      "\n",
      "Period=6 RMSE = 0.6845529730439969 RunTime(Seconds) = 1.8155450999999942\n",
      "\n",
      "\n",
      "Period=7 RMSE = 0.6953112172979049 RunTime(Seconds) = 2.2145696999999984\n",
      "\n",
      "\n",
      "Period=8 RMSE = 0.7081369360197859 RunTime(Seconds) = 1.6859321000000023\n",
      "\n",
      "\n",
      "Period=9 RMSE = 0.7115346842201692 RunTime(Seconds) = 2.0326664000000108\n",
      "\n"
     ]
    }
   ],
   "source": [
    "compare_decay_periods(n=100, k=10)"
   ]
  },
  {
   "cell_type": "code",
   "execution_count": 28,
   "metadata": {},
   "outputs": [
    {
     "name": "stdout",
     "output_type": "stream",
     "text": [
      "\n",
      "Period=2 RMSE = 4.385730582134505 RunTime(Seconds) = 16.66393620000001\n",
      "\n",
      "\n",
      "Period=3 RMSE = 4.149038934333514 RunTime(Seconds) = 12.813521600000001\n",
      "\n",
      "\n",
      "Period=4 RMSE = 4.3938502815913845 RunTime(Seconds) = 10.715028599999982\n",
      "\n",
      "\n",
      "Period=5 RMSE = 1.4897164217707004 RunTime(Seconds) = 10.13752150000002\n",
      "\n",
      "\n",
      "Period=6 RMSE = 5.259573554707806 RunTime(Seconds) = 8.31451340000001\n",
      "\n",
      "\n",
      "Period=7 RMSE = 0.6793192096244068 RunTime(Seconds) = 9.8262632\n",
      "\n",
      "\n",
      "Period=8 RMSE = 1.846101159199965 RunTime(Seconds) = 7.1984687000000065\n",
      "\n",
      "\n",
      "Period=9 RMSE = 1.7330056866239547 RunTime(Seconds) = 7.940140700000001\n",
      "\n"
     ]
    }
   ],
   "source": [
    "compare_decay_periods(n=600, k=10)"
   ]
  }
 ],
 "metadata": {
  "kernelspec": {
   "display_name": "Python 3",
   "language": "python",
   "name": "python3"
  },
  "language_info": {
   "codemirror_mode": {
    "name": "ipython",
    "version": 3
   },
   "file_extension": ".py",
   "mimetype": "text/x-python",
   "name": "python",
   "nbconvert_exporter": "python",
   "pygments_lexer": "ipython3",
   "version": "3.7.4"
  }
 },
 "nbformat": 4,
 "nbformat_minor": 4
}

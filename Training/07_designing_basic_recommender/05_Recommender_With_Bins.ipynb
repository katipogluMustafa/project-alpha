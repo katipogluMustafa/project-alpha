{
 "cells": [
  {
   "cell_type": "markdown",
   "metadata": {},
   "source": [
    "# Basic Recommendation on Movielens Dataset"
   ]
  },
  {
   "cell_type": "markdown",
   "metadata": {},
   "source": [
    "## Import Libraries"
   ]
  },
  {
   "cell_type": "code",
   "execution_count": 1,
   "metadata": {},
   "outputs": [],
   "source": [
    "import numpy as np\n",
    "import pandas as pd\n",
    "import matplotlib.pyplot as plt\n",
    "import seaborn as sns\n",
    "from datetime import datetime\n",
    "%matplotlib inline\n",
    "sns.set_style('white')"
   ]
  },
  {
   "cell_type": "markdown",
   "metadata": {},
   "source": [
    "## Load Dataset"
   ]
  },
  {
   "cell_type": "code",
   "execution_count": 2,
   "metadata": {},
   "outputs": [
    {
     "data": {
      "text/html": [
       "<div>\n",
       "<style scoped>\n",
       "    .dataframe tbody tr th:only-of-type {\n",
       "        vertical-align: middle;\n",
       "    }\n",
       "\n",
       "    .dataframe tbody tr th {\n",
       "        vertical-align: top;\n",
       "    }\n",
       "\n",
       "    .dataframe thead th {\n",
       "        text-align: right;\n",
       "    }\n",
       "</style>\n",
       "<table border=\"1\" class=\"dataframe\">\n",
       "  <thead>\n",
       "    <tr style=\"text-align: right;\">\n",
       "      <th></th>\n",
       "      <th>user_id</th>\n",
       "      <th>item_id</th>\n",
       "      <th>rating</th>\n",
       "      <th>timestamp</th>\n",
       "    </tr>\n",
       "  </thead>\n",
       "  <tbody>\n",
       "    <tr>\n",
       "      <th>0</th>\n",
       "      <td>1</td>\n",
       "      <td>3</td>\n",
       "      <td>4.0</td>\n",
       "      <td>964981247</td>\n",
       "    </tr>\n",
       "    <tr>\n",
       "      <th>1</th>\n",
       "      <td>1</td>\n",
       "      <td>6</td>\n",
       "      <td>4.0</td>\n",
       "      <td>964982224</td>\n",
       "    </tr>\n",
       "    <tr>\n",
       "      <th>2</th>\n",
       "      <td>1</td>\n",
       "      <td>47</td>\n",
       "      <td>5.0</td>\n",
       "      <td>964983815</td>\n",
       "    </tr>\n",
       "    <tr>\n",
       "      <th>3</th>\n",
       "      <td>1</td>\n",
       "      <td>50</td>\n",
       "      <td>5.0</td>\n",
       "      <td>964982931</td>\n",
       "    </tr>\n",
       "    <tr>\n",
       "      <th>4</th>\n",
       "      <td>1</td>\n",
       "      <td>70</td>\n",
       "      <td>3.0</td>\n",
       "      <td>964982400</td>\n",
       "    </tr>\n",
       "  </tbody>\n",
       "</table>\n",
       "</div>"
      ],
      "text/plain": [
       "   user_id  item_id  rating  timestamp\n",
       "0        1        3     4.0  964981247\n",
       "1        1        6     4.0  964982224\n",
       "2        1       47     5.0  964983815\n",
       "3        1       50     5.0  964982931\n",
       "4        1       70     3.0  964982400"
      ]
     },
     "execution_count": 2,
     "metadata": {},
     "output_type": "execute_result"
    }
   ],
   "source": [
    "col_names = ['user_id', 'item_id', 'rating', 'timestamp']\n",
    "ratings = pd.read_csv(r'C:\\Users\\Yukawa\\datasets\\ml-latest-small\\ratings.csv', sep=',', header=1, names=col_names)\n",
    "ratings.head()"
   ]
  },
  {
   "cell_type": "code",
   "execution_count": 3,
   "metadata": {},
   "outputs": [
    {
     "data": {
      "text/html": [
       "<div>\n",
       "<style scoped>\n",
       "    .dataframe tbody tr th:only-of-type {\n",
       "        vertical-align: middle;\n",
       "    }\n",
       "\n",
       "    .dataframe tbody tr th {\n",
       "        vertical-align: top;\n",
       "    }\n",
       "\n",
       "    .dataframe thead th {\n",
       "        text-align: right;\n",
       "    }\n",
       "</style>\n",
       "<table border=\"1\" class=\"dataframe\">\n",
       "  <thead>\n",
       "    <tr style=\"text-align: right;\">\n",
       "      <th></th>\n",
       "      <th>item_id</th>\n",
       "      <th>title</th>\n",
       "      <th>genres</th>\n",
       "    </tr>\n",
       "  </thead>\n",
       "  <tbody>\n",
       "    <tr>\n",
       "      <th>0</th>\n",
       "      <td>1</td>\n",
       "      <td>Toy Story (1995)</td>\n",
       "      <td>Adventure|Animation|Children|Comedy|Fantasy</td>\n",
       "    </tr>\n",
       "    <tr>\n",
       "      <th>1</th>\n",
       "      <td>2</td>\n",
       "      <td>Jumanji (1995)</td>\n",
       "      <td>Adventure|Children|Fantasy</td>\n",
       "    </tr>\n",
       "    <tr>\n",
       "      <th>2</th>\n",
       "      <td>3</td>\n",
       "      <td>Grumpier Old Men (1995)</td>\n",
       "      <td>Comedy|Romance</td>\n",
       "    </tr>\n",
       "    <tr>\n",
       "      <th>3</th>\n",
       "      <td>4</td>\n",
       "      <td>Waiting to Exhale (1995)</td>\n",
       "      <td>Comedy|Drama|Romance</td>\n",
       "    </tr>\n",
       "    <tr>\n",
       "      <th>4</th>\n",
       "      <td>5</td>\n",
       "      <td>Father of the Bride Part II (1995)</td>\n",
       "      <td>Comedy</td>\n",
       "    </tr>\n",
       "  </tbody>\n",
       "</table>\n",
       "</div>"
      ],
      "text/plain": [
       "   item_id                               title  \\\n",
       "0        1                    Toy Story (1995)   \n",
       "1        2                      Jumanji (1995)   \n",
       "2        3             Grumpier Old Men (1995)   \n",
       "3        4            Waiting to Exhale (1995)   \n",
       "4        5  Father of the Bride Part II (1995)   \n",
       "\n",
       "                                        genres  \n",
       "0  Adventure|Animation|Children|Comedy|Fantasy  \n",
       "1                   Adventure|Children|Fantasy  \n",
       "2                               Comedy|Romance  \n",
       "3                         Comedy|Drama|Romance  \n",
       "4                                       Comedy  "
      ]
     },
     "execution_count": 3,
     "metadata": {},
     "output_type": "execute_result"
    }
   ],
   "source": [
    "col_names = ['item_id', 'title', 'genres']\n",
    "movies = pd.read_csv(r'C:\\Users\\Yukawa\\datasets\\ml-latest-small\\movies.csv', sep=',', header=0, names=col_names)\n",
    "movies.head()"
   ]
  },
  {
   "cell_type": "code",
   "execution_count": 4,
   "metadata": {},
   "outputs": [],
   "source": [
    "movies['year'] = movies.title.str.extract(\"\\((\\d{4})\\)\", expand=True)\n",
    "movies.year = pd.to_datetime(movies.year, format='%Y')\n",
    "movies.year = movies.year.dt.year # As there are some NaN years, resulting type will be float (decimals)\n",
    "movies.title = movies.title.str[:-7]"
   ]
  },
  {
   "cell_type": "code",
   "execution_count": 5,
   "metadata": {},
   "outputs": [],
   "source": [
    "ratings['timestamp'] = pd.to_datetime(ratings['timestamp'], unit='s', origin='unix')"
   ]
  },
  {
   "cell_type": "code",
   "execution_count": 6,
   "metadata": {},
   "outputs": [
    {
     "data": {
      "text/html": [
       "<div>\n",
       "<style scoped>\n",
       "    .dataframe tbody tr th:only-of-type {\n",
       "        vertical-align: middle;\n",
       "    }\n",
       "\n",
       "    .dataframe tbody tr th {\n",
       "        vertical-align: top;\n",
       "    }\n",
       "\n",
       "    .dataframe thead th {\n",
       "        text-align: right;\n",
       "    }\n",
       "</style>\n",
       "<table border=\"1\" class=\"dataframe\">\n",
       "  <thead>\n",
       "    <tr style=\"text-align: right;\">\n",
       "      <th></th>\n",
       "      <th>user_id</th>\n",
       "      <th>item_id</th>\n",
       "      <th>rating</th>\n",
       "      <th>timestamp</th>\n",
       "      <th>title</th>\n",
       "      <th>genres</th>\n",
       "      <th>year</th>\n",
       "    </tr>\n",
       "  </thead>\n",
       "  <tbody>\n",
       "    <tr>\n",
       "      <th>0</th>\n",
       "      <td>1</td>\n",
       "      <td>3</td>\n",
       "      <td>4.0</td>\n",
       "      <td>2000-07-30 18:20:47</td>\n",
       "      <td>Grumpier Old Men</td>\n",
       "      <td>Comedy|Romance</td>\n",
       "      <td>1995.0</td>\n",
       "    </tr>\n",
       "    <tr>\n",
       "      <th>1</th>\n",
       "      <td>6</td>\n",
       "      <td>3</td>\n",
       "      <td>5.0</td>\n",
       "      <td>1996-10-17 12:11:36</td>\n",
       "      <td>Grumpier Old Men</td>\n",
       "      <td>Comedy|Romance</td>\n",
       "      <td>1995.0</td>\n",
       "    </tr>\n",
       "    <tr>\n",
       "      <th>2</th>\n",
       "      <td>19</td>\n",
       "      <td>3</td>\n",
       "      <td>3.0</td>\n",
       "      <td>2000-08-08 04:07:16</td>\n",
       "      <td>Grumpier Old Men</td>\n",
       "      <td>Comedy|Romance</td>\n",
       "      <td>1995.0</td>\n",
       "    </tr>\n",
       "    <tr>\n",
       "      <th>3</th>\n",
       "      <td>32</td>\n",
       "      <td>3</td>\n",
       "      <td>3.0</td>\n",
       "      <td>1997-02-23 22:16:12</td>\n",
       "      <td>Grumpier Old Men</td>\n",
       "      <td>Comedy|Romance</td>\n",
       "      <td>1995.0</td>\n",
       "    </tr>\n",
       "    <tr>\n",
       "      <th>4</th>\n",
       "      <td>42</td>\n",
       "      <td>3</td>\n",
       "      <td>4.0</td>\n",
       "      <td>2001-07-27 08:04:05</td>\n",
       "      <td>Grumpier Old Men</td>\n",
       "      <td>Comedy|Romance</td>\n",
       "      <td>1995.0</td>\n",
       "    </tr>\n",
       "  </tbody>\n",
       "</table>\n",
       "</div>"
      ],
      "text/plain": [
       "   user_id  item_id  rating           timestamp             title  \\\n",
       "0        1        3     4.0 2000-07-30 18:20:47  Grumpier Old Men   \n",
       "1        6        3     5.0 1996-10-17 12:11:36  Grumpier Old Men   \n",
       "2       19        3     3.0 2000-08-08 04:07:16  Grumpier Old Men   \n",
       "3       32        3     3.0 1997-02-23 22:16:12  Grumpier Old Men   \n",
       "4       42        3     4.0 2001-07-27 08:04:05  Grumpier Old Men   \n",
       "\n",
       "           genres    year  \n",
       "0  Comedy|Romance  1995.0  \n",
       "1  Comedy|Romance  1995.0  \n",
       "2  Comedy|Romance  1995.0  \n",
       "3  Comedy|Romance  1995.0  \n",
       "4  Comedy|Romance  1995.0  "
      ]
     },
     "execution_count": 6,
     "metadata": {},
     "output_type": "execute_result"
    }
   ],
   "source": [
    "movie_ratings = pd.merge(ratings, movies, on='item_id')\n",
    "movie_ratings.head()"
   ]
  },
  {
   "cell_type": "markdown",
   "metadata": {},
   "source": [
    "## Dataset Analysis"
   ]
  },
  {
   "cell_type": "markdown",
   "metadata": {},
   "source": [
    "### Current Dataset Info"
   ]
  },
  {
   "cell_type": "code",
   "execution_count": 7,
   "metadata": {},
   "outputs": [
    {
     "name": "stdout",
     "output_type": "stream",
     "text": [
      "Raw data size:  (100835, 4) \n",
      "Number of Unique users:  610 \n",
      "Number of Unique movies:  9724 \n",
      "Number of Unique ratings:  10 \n",
      "Unique ratings:  [0.5 1.  1.5 2.  2.5 3.  3.5 4.  4.5 5. ]\n"
     ]
    }
   ],
   "source": [
    "print(\"Raw data size: \", ratings.shape,\n",
    "    \"\\nNumber of Unique users: \", len(ratings['user_id'].unique()),\n",
    "    \"\\nNumber of Unique movies: \", len(ratings['item_id'].unique()),\n",
    "    \"\\nNumber of Unique ratings: \", len(ratings['rating'].unique()),     # 0, 0.5, 1, 1.5, ... 5.0\n",
    "    \"\\nUnique ratings: \", ratings['rating'].sort_values().unique(),\n",
    "     )"
   ]
  },
  {
   "cell_type": "markdown",
   "metadata": {},
   "source": [
    "### Most Rated Movies "
   ]
  },
  {
   "cell_type": "code",
   "execution_count": 8,
   "metadata": {},
   "outputs": [
    {
     "data": {
      "text/html": [
       "<div>\n",
       "<style scoped>\n",
       "    .dataframe tbody tr th:only-of-type {\n",
       "        vertical-align: middle;\n",
       "    }\n",
       "\n",
       "    .dataframe tbody tr th {\n",
       "        vertical-align: top;\n",
       "    }\n",
       "\n",
       "    .dataframe thead th {\n",
       "        text-align: right;\n",
       "    }\n",
       "</style>\n",
       "<table border=\"1\" class=\"dataframe\">\n",
       "  <thead>\n",
       "    <tr style=\"text-align: right;\">\n",
       "      <th></th>\n",
       "      <th>rating</th>\n",
       "      <th>No_of_ratings</th>\n",
       "    </tr>\n",
       "    <tr>\n",
       "      <th>title</th>\n",
       "      <th></th>\n",
       "      <th></th>\n",
       "    </tr>\n",
       "  </thead>\n",
       "  <tbody>\n",
       "    <tr>\n",
       "      <th>Forrest Gump</th>\n",
       "      <td>4.164134</td>\n",
       "      <td>329</td>\n",
       "    </tr>\n",
       "    <tr>\n",
       "      <th>Shawshank Redemption, The</th>\n",
       "      <td>4.429022</td>\n",
       "      <td>317</td>\n",
       "    </tr>\n",
       "    <tr>\n",
       "      <th>Pulp Fiction</th>\n",
       "      <td>4.197068</td>\n",
       "      <td>307</td>\n",
       "    </tr>\n",
       "    <tr>\n",
       "      <th>Silence of the Lambs, The</th>\n",
       "      <td>4.161290</td>\n",
       "      <td>279</td>\n",
       "    </tr>\n",
       "    <tr>\n",
       "      <th>Matrix, The</th>\n",
       "      <td>4.192446</td>\n",
       "      <td>278</td>\n",
       "    </tr>\n",
       "    <tr>\n",
       "      <th>Star Wars: Episode IV - A New Hope</th>\n",
       "      <td>4.231076</td>\n",
       "      <td>251</td>\n",
       "    </tr>\n",
       "    <tr>\n",
       "      <th>Jurassic Park</th>\n",
       "      <td>3.750000</td>\n",
       "      <td>238</td>\n",
       "    </tr>\n",
       "    <tr>\n",
       "      <th>Braveheart</th>\n",
       "      <td>4.031646</td>\n",
       "      <td>237</td>\n",
       "    </tr>\n",
       "    <tr>\n",
       "      <th>Terminator 2: Judgment Day</th>\n",
       "      <td>3.970982</td>\n",
       "      <td>224</td>\n",
       "    </tr>\n",
       "    <tr>\n",
       "      <th>Schindler's List</th>\n",
       "      <td>4.225000</td>\n",
       "      <td>220</td>\n",
       "    </tr>\n",
       "  </tbody>\n",
       "</table>\n",
       "</div>"
      ],
      "text/plain": [
       "                                      rating  No_of_ratings\n",
       "title                                                      \n",
       "Forrest Gump                        4.164134            329\n",
       "Shawshank Redemption, The           4.429022            317\n",
       "Pulp Fiction                        4.197068            307\n",
       "Silence of the Lambs, The           4.161290            279\n",
       "Matrix, The                         4.192446            278\n",
       "Star Wars: Episode IV - A New Hope  4.231076            251\n",
       "Jurassic Park                       3.750000            238\n",
       "Braveheart                          4.031646            237\n",
       "Terminator 2: Judgment Day          3.970982            224\n",
       "Schindler's List                    4.225000            220"
      ]
     },
     "execution_count": 8,
     "metadata": {},
     "output_type": "execute_result"
    }
   ],
   "source": [
    "ratings = pd.DataFrame(movie_ratings.groupby('title')['rating'].mean())\n",
    "ratings['No_of_ratings'] = pd.DataFrame(movie_ratings.groupby('title')['rating'].count())\n",
    "ratings.sort_values(by=['No_of_ratings'], ascending=False).head(10)"
   ]
  },
  {
   "cell_type": "markdown",
   "metadata": {},
   "source": [
    "## Designing KNN Func With Bins"
   ]
  },
  {
   "cell_type": "code",
   "execution_count": 9,
   "metadata": {},
   "outputs": [],
   "source": [
    "def get_knn_with_bin(rating_matrix, movie_name, k=10, min_common_elements=20, \n",
    "                         start_year=95,\n",
    "                         end_year=20):\n",
    "    user_movie_matrix = rating_matrix[(rating_matrix.timestamp >= datetime(start_year, 1, 15)) & (rating_matrix.timestamp < datetime(end_year, 1, 15))].pivot_table(index='user_id', columns='title', values='rating')\n",
    "    corrs = user_movie_matrix.corr(method='pearson',min_periods=min_common_elements)\n",
    "    movie_corrs = corrs[movie_name]\n",
    "    movie_corrs.dropna(inplace=True)\n",
    "    movies_alike = pd.DataFrame(movie_corrs)\n",
    "    movies_alike.columns= ['correlation']\n",
    "    movies_alike.sort_values(by='correlation', ascending=False, inplace=True)\n",
    "    print(movies_alike.head(k))"
   ]
  },
  {
   "cell_type": "code",
   "execution_count": 10,
   "metadata": {},
   "outputs": [],
   "source": [
    "#get_knn_with_bin(movie_ratings,\"Shawshank Redemption, The\", k=15)"
   ]
  },
  {
   "cell_type": "code",
   "execution_count": 11,
   "metadata": {},
   "outputs": [],
   "source": [
    "def print_knn_with_bins(rating_matrix, movie_name, k=10, min_common_elements=20, \n",
    "                         start_year=2001,\n",
    "                         end_year=2021,\n",
    "                         bin_size_in_years=5):\n",
    "    while(start_year < end_year):\n",
    "        bin_end_year = start_year+bin_size_in_years\n",
    "        bin_start_year = start_year\n",
    "        print(f\"\\nRange:{bin_start_year}:{bin_end_year}-->\\n\")\n",
    "        get_knn_with_bin(rating_matrix, movie_name, k=15, start_year=start_year, end_year=bin_end_year)\n",
    "        start_year += bin_size_in_years\n"
   ]
  },
  {
   "cell_type": "code",
   "execution_count": 12,
   "metadata": {},
   "outputs": [
    {
     "name": "stdout",
     "output_type": "stream",
     "text": [
      "\n",
      "Range:2001:2006-->\n",
      "\n",
      "                           correlation\n",
      "title                                 \n",
      "Shawshank Redemption, The     1.000000\n",
      "Matrix, The                   0.000000\n",
      "Silence of the Lambs, The    -0.086519\n",
      "\n",
      "Range:2006:2011-->\n",
      "\n",
      "                                                  correlation\n",
      "title                                                        \n",
      "Shawshank Redemption, The                            1.000000\n",
      "E.T. the Extra-Terrestrial                           0.606933\n",
      "Schindler's List                                     0.603358\n",
      "Terminator 2: Judgment Day                           0.587223\n",
      "Gladiator                                            0.582625\n",
      "Braveheart                                           0.578764\n",
      "Die Hard                                             0.571752\n",
      "Crouching Tiger, Hidden Dragon (Wo hu cang long)     0.567345\n",
      "Snatch                                               0.552673\n",
      "Forrest Gump                                         0.543680\n",
      "Dances with Wolves                                   0.535827\n",
      "American History X                                   0.530723\n",
      "Minority Report                                      0.529760\n",
      "Ghostbusters (a.k.a. Ghost Busters)                  0.528128\n",
      "Seven (a.k.a. Se7en)                                 0.527464\n",
      "\n",
      "Range:2011:2016-->\n",
      "\n",
      "                                                    correlation\n",
      "title                                                          \n",
      "Shawshank Redemption, The                              1.000000\n",
      "City of God (Cidade de Deus)                           0.774438\n",
      "Saving Private Ryan                                    0.739243\n",
      "Godfather: Part II, The                                0.700879\n",
      "Dark Knight Rises, The                                 0.693310\n",
      "Fight Club                                             0.682580\n",
      "Inception                                              0.680232\n",
      "Slumdog Millionaire                                    0.675771\n",
      "Reservoir Dogs                                         0.648826\n",
      "Ocean's Eleven                                         0.642500\n",
      "Gladiator                                              0.579667\n",
      "Departed, The                                          0.554143\n",
      "Sixth Sense, The                                       0.552624\n",
      "Raiders of the Lost Ark (Indiana Jones and the ...     0.543752\n",
      "Schindler's List                                       0.543692\n",
      "\n",
      "Range:2016:2021-->\n",
      "\n",
      "                                                    correlation\n",
      "title                                                          \n",
      "Shawshank Redemption, The                              1.000000\n",
      "Usual Suspects, The                                    0.656212\n",
      "Titanic                                                0.594835\n",
      "Godfather, The                                         0.523197\n",
      "Big Lebowski, The                                      0.500507\n",
      "Forrest Gump                                           0.412701\n",
      "Sherlock Holmes                                        0.383194\n",
      "Green Mile, The                                        0.373103\n",
      "Catch Me If You Can                                    0.370359\n",
      "Avatar                                                 0.350197\n",
      "Schindler's List                                       0.342240\n",
      "Good Will Hunting                                      0.341918\n",
      "Requiem for a Dream                                    0.340267\n",
      "Skyfall                                                0.317086\n",
      "Harry Potter and the Sorcerer's Stone (a.k.a. H...     0.303492\n"
     ]
    }
   ],
   "source": [
    "print_knn_with_bins(movie_ratings,\"Shawshank Redemption, The\", k=15)"
   ]
  },
  {
   "cell_type": "code",
   "execution_count": null,
   "metadata": {},
   "outputs": [],
   "source": []
  }
 ],
 "metadata": {
  "kernelspec": {
   "display_name": "Python 3",
   "language": "python",
   "name": "python3"
  },
  "language_info": {
   "codemirror_mode": {
    "name": "ipython",
    "version": 3
   },
   "file_extension": ".py",
   "mimetype": "text/x-python",
   "name": "python",
   "nbconvert_exporter": "python",
   "pygments_lexer": "ipython3",
   "version": "3.7.4"
  }
 },
 "nbformat": 4,
 "nbformat_minor": 4
}

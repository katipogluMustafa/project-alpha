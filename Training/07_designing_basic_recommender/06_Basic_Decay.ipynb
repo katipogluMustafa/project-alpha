{
 "cells": [
  {
   "cell_type": "markdown",
   "metadata": {},
   "source": [
    "# Basic Recommendation on Movielens Dataset"
   ]
  },
  {
   "cell_type": "markdown",
   "metadata": {},
   "source": [
    "## Import Libraries"
   ]
  },
  {
   "cell_type": "code",
   "execution_count": 41,
   "metadata": {},
   "outputs": [],
   "source": [
    "import numpy as np\n",
    "import pandas as pd\n",
    "import matplotlib.pyplot as plt\n",
    "import seaborn as sns\n",
    "from math import ceil\n",
    "from datetime import datetime\n",
    "from collections import defaultdict\n",
    "%matplotlib inline\n",
    "sns.set_style('white')"
   ]
  },
  {
   "cell_type": "markdown",
   "metadata": {},
   "source": [
    "## Load Dataset"
   ]
  },
  {
   "cell_type": "code",
   "execution_count": 2,
   "metadata": {},
   "outputs": [
    {
     "data": {
      "text/html": [
       "<div>\n",
       "<style scoped>\n",
       "    .dataframe tbody tr th:only-of-type {\n",
       "        vertical-align: middle;\n",
       "    }\n",
       "\n",
       "    .dataframe tbody tr th {\n",
       "        vertical-align: top;\n",
       "    }\n",
       "\n",
       "    .dataframe thead th {\n",
       "        text-align: right;\n",
       "    }\n",
       "</style>\n",
       "<table border=\"1\" class=\"dataframe\">\n",
       "  <thead>\n",
       "    <tr style=\"text-align: right;\">\n",
       "      <th></th>\n",
       "      <th>user_id</th>\n",
       "      <th>item_id</th>\n",
       "      <th>rating</th>\n",
       "      <th>timestamp</th>\n",
       "    </tr>\n",
       "  </thead>\n",
       "  <tbody>\n",
       "    <tr>\n",
       "      <th>0</th>\n",
       "      <td>1</td>\n",
       "      <td>3</td>\n",
       "      <td>4.0</td>\n",
       "      <td>964981247</td>\n",
       "    </tr>\n",
       "    <tr>\n",
       "      <th>1</th>\n",
       "      <td>1</td>\n",
       "      <td>6</td>\n",
       "      <td>4.0</td>\n",
       "      <td>964982224</td>\n",
       "    </tr>\n",
       "    <tr>\n",
       "      <th>2</th>\n",
       "      <td>1</td>\n",
       "      <td>47</td>\n",
       "      <td>5.0</td>\n",
       "      <td>964983815</td>\n",
       "    </tr>\n",
       "    <tr>\n",
       "      <th>3</th>\n",
       "      <td>1</td>\n",
       "      <td>50</td>\n",
       "      <td>5.0</td>\n",
       "      <td>964982931</td>\n",
       "    </tr>\n",
       "    <tr>\n",
       "      <th>4</th>\n",
       "      <td>1</td>\n",
       "      <td>70</td>\n",
       "      <td>3.0</td>\n",
       "      <td>964982400</td>\n",
       "    </tr>\n",
       "  </tbody>\n",
       "</table>\n",
       "</div>"
      ],
      "text/plain": [
       "   user_id  item_id  rating  timestamp\n",
       "0        1        3     4.0  964981247\n",
       "1        1        6     4.0  964982224\n",
       "2        1       47     5.0  964983815\n",
       "3        1       50     5.0  964982931\n",
       "4        1       70     3.0  964982400"
      ]
     },
     "execution_count": 2,
     "metadata": {},
     "output_type": "execute_result"
    }
   ],
   "source": [
    "col_names = ['user_id', 'item_id', 'rating', 'timestamp']\n",
    "ratings = pd.read_csv(r'C:\\Users\\Yukawa\\datasets\\ml-latest-small\\ratings.csv', sep=',', header=1, names=col_names)\n",
    "ratings.head()"
   ]
  },
  {
   "cell_type": "code",
   "execution_count": 3,
   "metadata": {},
   "outputs": [
    {
     "data": {
      "text/html": [
       "<div>\n",
       "<style scoped>\n",
       "    .dataframe tbody tr th:only-of-type {\n",
       "        vertical-align: middle;\n",
       "    }\n",
       "\n",
       "    .dataframe tbody tr th {\n",
       "        vertical-align: top;\n",
       "    }\n",
       "\n",
       "    .dataframe thead th {\n",
       "        text-align: right;\n",
       "    }\n",
       "</style>\n",
       "<table border=\"1\" class=\"dataframe\">\n",
       "  <thead>\n",
       "    <tr style=\"text-align: right;\">\n",
       "      <th></th>\n",
       "      <th>item_id</th>\n",
       "      <th>title</th>\n",
       "      <th>genres</th>\n",
       "    </tr>\n",
       "  </thead>\n",
       "  <tbody>\n",
       "    <tr>\n",
       "      <th>0</th>\n",
       "      <td>1</td>\n",
       "      <td>Toy Story (1995)</td>\n",
       "      <td>Adventure|Animation|Children|Comedy|Fantasy</td>\n",
       "    </tr>\n",
       "    <tr>\n",
       "      <th>1</th>\n",
       "      <td>2</td>\n",
       "      <td>Jumanji (1995)</td>\n",
       "      <td>Adventure|Children|Fantasy</td>\n",
       "    </tr>\n",
       "    <tr>\n",
       "      <th>2</th>\n",
       "      <td>3</td>\n",
       "      <td>Grumpier Old Men (1995)</td>\n",
       "      <td>Comedy|Romance</td>\n",
       "    </tr>\n",
       "    <tr>\n",
       "      <th>3</th>\n",
       "      <td>4</td>\n",
       "      <td>Waiting to Exhale (1995)</td>\n",
       "      <td>Comedy|Drama|Romance</td>\n",
       "    </tr>\n",
       "    <tr>\n",
       "      <th>4</th>\n",
       "      <td>5</td>\n",
       "      <td>Father of the Bride Part II (1995)</td>\n",
       "      <td>Comedy</td>\n",
       "    </tr>\n",
       "  </tbody>\n",
       "</table>\n",
       "</div>"
      ],
      "text/plain": [
       "   item_id                               title  \\\n",
       "0        1                    Toy Story (1995)   \n",
       "1        2                      Jumanji (1995)   \n",
       "2        3             Grumpier Old Men (1995)   \n",
       "3        4            Waiting to Exhale (1995)   \n",
       "4        5  Father of the Bride Part II (1995)   \n",
       "\n",
       "                                        genres  \n",
       "0  Adventure|Animation|Children|Comedy|Fantasy  \n",
       "1                   Adventure|Children|Fantasy  \n",
       "2                               Comedy|Romance  \n",
       "3                         Comedy|Drama|Romance  \n",
       "4                                       Comedy  "
      ]
     },
     "execution_count": 3,
     "metadata": {},
     "output_type": "execute_result"
    }
   ],
   "source": [
    "col_names = ['item_id', 'title', 'genres']\n",
    "movies = pd.read_csv(r'C:\\Users\\Yukawa\\datasets\\ml-latest-small\\movies.csv', sep=',', header=0, names=col_names)\n",
    "movies.head()"
   ]
  },
  {
   "cell_type": "code",
   "execution_count": 4,
   "metadata": {},
   "outputs": [],
   "source": [
    "movies['year'] = movies.title.str.extract(\"\\((\\d{4})\\)\", expand=True)\n",
    "movies.year = pd.to_datetime(movies.year, format='%Y')\n",
    "movies.year = movies.year.dt.year # As there are some NaN years, resulting type will be float (decimals)\n",
    "movies.title = movies.title.str[:-7]"
   ]
  },
  {
   "cell_type": "code",
   "execution_count": 5,
   "metadata": {},
   "outputs": [],
   "source": [
    "ratings['timestamp'] = pd.to_datetime(ratings['timestamp'], unit='s', origin='unix')"
   ]
  },
  {
   "cell_type": "code",
   "execution_count": 6,
   "metadata": {},
   "outputs": [
    {
     "data": {
      "text/html": [
       "<div>\n",
       "<style scoped>\n",
       "    .dataframe tbody tr th:only-of-type {\n",
       "        vertical-align: middle;\n",
       "    }\n",
       "\n",
       "    .dataframe tbody tr th {\n",
       "        vertical-align: top;\n",
       "    }\n",
       "\n",
       "    .dataframe thead th {\n",
       "        text-align: right;\n",
       "    }\n",
       "</style>\n",
       "<table border=\"1\" class=\"dataframe\">\n",
       "  <thead>\n",
       "    <tr style=\"text-align: right;\">\n",
       "      <th></th>\n",
       "      <th>user_id</th>\n",
       "      <th>item_id</th>\n",
       "      <th>rating</th>\n",
       "      <th>timestamp</th>\n",
       "      <th>title</th>\n",
       "      <th>genres</th>\n",
       "      <th>year</th>\n",
       "    </tr>\n",
       "  </thead>\n",
       "  <tbody>\n",
       "    <tr>\n",
       "      <th>0</th>\n",
       "      <td>1</td>\n",
       "      <td>3</td>\n",
       "      <td>4.0</td>\n",
       "      <td>2000-07-30 18:20:47</td>\n",
       "      <td>Grumpier Old Men</td>\n",
       "      <td>Comedy|Romance</td>\n",
       "      <td>1995.0</td>\n",
       "    </tr>\n",
       "    <tr>\n",
       "      <th>1</th>\n",
       "      <td>6</td>\n",
       "      <td>3</td>\n",
       "      <td>5.0</td>\n",
       "      <td>1996-10-17 12:11:36</td>\n",
       "      <td>Grumpier Old Men</td>\n",
       "      <td>Comedy|Romance</td>\n",
       "      <td>1995.0</td>\n",
       "    </tr>\n",
       "    <tr>\n",
       "      <th>2</th>\n",
       "      <td>19</td>\n",
       "      <td>3</td>\n",
       "      <td>3.0</td>\n",
       "      <td>2000-08-08 04:07:16</td>\n",
       "      <td>Grumpier Old Men</td>\n",
       "      <td>Comedy|Romance</td>\n",
       "      <td>1995.0</td>\n",
       "    </tr>\n",
       "    <tr>\n",
       "      <th>3</th>\n",
       "      <td>32</td>\n",
       "      <td>3</td>\n",
       "      <td>3.0</td>\n",
       "      <td>1997-02-23 22:16:12</td>\n",
       "      <td>Grumpier Old Men</td>\n",
       "      <td>Comedy|Romance</td>\n",
       "      <td>1995.0</td>\n",
       "    </tr>\n",
       "    <tr>\n",
       "      <th>4</th>\n",
       "      <td>42</td>\n",
       "      <td>3</td>\n",
       "      <td>4.0</td>\n",
       "      <td>2001-07-27 08:04:05</td>\n",
       "      <td>Grumpier Old Men</td>\n",
       "      <td>Comedy|Romance</td>\n",
       "      <td>1995.0</td>\n",
       "    </tr>\n",
       "  </tbody>\n",
       "</table>\n",
       "</div>"
      ],
      "text/plain": [
       "   user_id  item_id  rating           timestamp             title  \\\n",
       "0        1        3     4.0 2000-07-30 18:20:47  Grumpier Old Men   \n",
       "1        6        3     5.0 1996-10-17 12:11:36  Grumpier Old Men   \n",
       "2       19        3     3.0 2000-08-08 04:07:16  Grumpier Old Men   \n",
       "3       32        3     3.0 1997-02-23 22:16:12  Grumpier Old Men   \n",
       "4       42        3     4.0 2001-07-27 08:04:05  Grumpier Old Men   \n",
       "\n",
       "           genres    year  \n",
       "0  Comedy|Romance  1995.0  \n",
       "1  Comedy|Romance  1995.0  \n",
       "2  Comedy|Romance  1995.0  \n",
       "3  Comedy|Romance  1995.0  \n",
       "4  Comedy|Romance  1995.0  "
      ]
     },
     "execution_count": 6,
     "metadata": {},
     "output_type": "execute_result"
    }
   ],
   "source": [
    "movie_ratings = pd.merge(ratings, movies, on='item_id')\n",
    "movie_ratings.head()"
   ]
  },
  {
   "cell_type": "markdown",
   "metadata": {},
   "source": [
    "## Dataset Analysis"
   ]
  },
  {
   "cell_type": "markdown",
   "metadata": {},
   "source": [
    "### Current Dataset Info"
   ]
  },
  {
   "cell_type": "code",
   "execution_count": 7,
   "metadata": {},
   "outputs": [
    {
     "name": "stdout",
     "output_type": "stream",
     "text": [
      "Raw data size:  (100835, 4) \n",
      "Number of Unique users:  610 \n",
      "Number of Unique movies:  9724 \n",
      "Number of Unique ratings:  10 \n",
      "Unique ratings:  [0.5 1.  1.5 2.  2.5 3.  3.5 4.  4.5 5. ]\n"
     ]
    }
   ],
   "source": [
    "print(\"Raw data size: \", ratings.shape,\n",
    "    \"\\nNumber of Unique users: \", len(ratings['user_id'].unique()),\n",
    "    \"\\nNumber of Unique movies: \", len(ratings['item_id'].unique()),\n",
    "    \"\\nNumber of Unique ratings: \", len(ratings['rating'].unique()),     # 0, 0.5, 1, 1.5, ... 5.0\n",
    "    \"\\nUnique ratings: \", ratings['rating'].sort_values().unique(),\n",
    "     )"
   ]
  },
  {
   "cell_type": "markdown",
   "metadata": {},
   "source": [
    "### Most Rated Movies "
   ]
  },
  {
   "cell_type": "code",
   "execution_count": 8,
   "metadata": {},
   "outputs": [
    {
     "data": {
      "text/html": [
       "<div>\n",
       "<style scoped>\n",
       "    .dataframe tbody tr th:only-of-type {\n",
       "        vertical-align: middle;\n",
       "    }\n",
       "\n",
       "    .dataframe tbody tr th {\n",
       "        vertical-align: top;\n",
       "    }\n",
       "\n",
       "    .dataframe thead th {\n",
       "        text-align: right;\n",
       "    }\n",
       "</style>\n",
       "<table border=\"1\" class=\"dataframe\">\n",
       "  <thead>\n",
       "    <tr style=\"text-align: right;\">\n",
       "      <th></th>\n",
       "      <th>rating</th>\n",
       "      <th>No_of_ratings</th>\n",
       "    </tr>\n",
       "    <tr>\n",
       "      <th>title</th>\n",
       "      <th></th>\n",
       "      <th></th>\n",
       "    </tr>\n",
       "  </thead>\n",
       "  <tbody>\n",
       "    <tr>\n",
       "      <th>Forrest Gump</th>\n",
       "      <td>4.164134</td>\n",
       "      <td>329</td>\n",
       "    </tr>\n",
       "    <tr>\n",
       "      <th>Shawshank Redemption, The</th>\n",
       "      <td>4.429022</td>\n",
       "      <td>317</td>\n",
       "    </tr>\n",
       "    <tr>\n",
       "      <th>Pulp Fiction</th>\n",
       "      <td>4.197068</td>\n",
       "      <td>307</td>\n",
       "    </tr>\n",
       "    <tr>\n",
       "      <th>Silence of the Lambs, The</th>\n",
       "      <td>4.161290</td>\n",
       "      <td>279</td>\n",
       "    </tr>\n",
       "    <tr>\n",
       "      <th>Matrix, The</th>\n",
       "      <td>4.192446</td>\n",
       "      <td>278</td>\n",
       "    </tr>\n",
       "    <tr>\n",
       "      <th>Star Wars: Episode IV - A New Hope</th>\n",
       "      <td>4.231076</td>\n",
       "      <td>251</td>\n",
       "    </tr>\n",
       "    <tr>\n",
       "      <th>Jurassic Park</th>\n",
       "      <td>3.750000</td>\n",
       "      <td>238</td>\n",
       "    </tr>\n",
       "    <tr>\n",
       "      <th>Braveheart</th>\n",
       "      <td>4.031646</td>\n",
       "      <td>237</td>\n",
       "    </tr>\n",
       "    <tr>\n",
       "      <th>Terminator 2: Judgment Day</th>\n",
       "      <td>3.970982</td>\n",
       "      <td>224</td>\n",
       "    </tr>\n",
       "    <tr>\n",
       "      <th>Schindler's List</th>\n",
       "      <td>4.225000</td>\n",
       "      <td>220</td>\n",
       "    </tr>\n",
       "  </tbody>\n",
       "</table>\n",
       "</div>"
      ],
      "text/plain": [
       "                                      rating  No_of_ratings\n",
       "title                                                      \n",
       "Forrest Gump                        4.164134            329\n",
       "Shawshank Redemption, The           4.429022            317\n",
       "Pulp Fiction                        4.197068            307\n",
       "Silence of the Lambs, The           4.161290            279\n",
       "Matrix, The                         4.192446            278\n",
       "Star Wars: Episode IV - A New Hope  4.231076            251\n",
       "Jurassic Park                       3.750000            238\n",
       "Braveheart                          4.031646            237\n",
       "Terminator 2: Judgment Day          3.970982            224\n",
       "Schindler's List                    4.225000            220"
      ]
     },
     "execution_count": 8,
     "metadata": {},
     "output_type": "execute_result"
    }
   ],
   "source": [
    "ratings = pd.DataFrame(movie_ratings.groupby('title')['rating'].mean())\n",
    "ratings['No_of_ratings'] = pd.DataFrame(movie_ratings.groupby('title')['rating'].count())\n",
    "ratings.sort_values(by=['No_of_ratings'], ascending=False).head(10)"
   ]
  },
  {
   "cell_type": "markdown",
   "metadata": {},
   "source": [
    "## Designing KNN Func With Basic Decay"
   ]
  },
  {
   "cell_type": "code",
   "execution_count": 9,
   "metadata": {},
   "outputs": [],
   "source": [
    "def get_bin(movie_ratings_data, movie_name, min_common_elements=20, \n",
    "                         start_year=1995,\n",
    "                         end_year=2000):\n",
    "    user_movie_matrix = movie_ratings_data[(movie_ratings_data.timestamp >= datetime(start_year, 1, 15)) & (movie_ratings_data.timestamp < datetime(end_year, 1, 15))].pivot_table(index='user_id', columns='title', values='rating')\n",
    "    corrs = user_movie_matrix.corr(method='pearson', min_periods=min_common_elements)\n",
    "    movie_corrs = corrs[movie_name]\n",
    "    movie_corrs.dropna(inplace=True)\n",
    "    movies_alike = pd.DataFrame(movie_corrs)\n",
    "    movies_alike.columns= ['correlation']\n",
    "    movies_alike.sort_values(by='correlation', ascending=False, inplace=True)\n",
    "    return movies_alike"
   ]
  },
  {
   "cell_type": "code",
   "execution_count": 10,
   "metadata": {},
   "outputs": [
    {
     "data": {
      "text/html": [
       "<div>\n",
       "<style scoped>\n",
       "    .dataframe tbody tr th:only-of-type {\n",
       "        vertical-align: middle;\n",
       "    }\n",
       "\n",
       "    .dataframe tbody tr th {\n",
       "        vertical-align: top;\n",
       "    }\n",
       "\n",
       "    .dataframe thead th {\n",
       "        text-align: right;\n",
       "    }\n",
       "</style>\n",
       "<table border=\"1\" class=\"dataframe\">\n",
       "  <thead>\n",
       "    <tr style=\"text-align: right;\">\n",
       "      <th></th>\n",
       "      <th>correlation</th>\n",
       "    </tr>\n",
       "    <tr>\n",
       "      <th>title</th>\n",
       "      <th></th>\n",
       "    </tr>\n",
       "  </thead>\n",
       "  <tbody>\n",
       "    <tr>\n",
       "      <th>Shawshank Redemption, The</th>\n",
       "      <td>1.000000</td>\n",
       "    </tr>\n",
       "    <tr>\n",
       "      <th>Intouchables</th>\n",
       "      <td>0.744396</td>\n",
       "    </tr>\n",
       "    <tr>\n",
       "      <th>Dead Man Walking</th>\n",
       "      <td>0.655406</td>\n",
       "    </tr>\n",
       "    <tr>\n",
       "      <th>Crimson Tide</th>\n",
       "      <td>0.633063</td>\n",
       "    </tr>\n",
       "    <tr>\n",
       "      <th>Wallace &amp; Gromit: A Close Shave</th>\n",
       "      <td>0.622129</td>\n",
       "    </tr>\n",
       "    <tr>\n",
       "      <th>Shooter</th>\n",
       "      <td>0.601875</td>\n",
       "    </tr>\n",
       "    <tr>\n",
       "      <th>Four Weddings and a Funeral</th>\n",
       "      <td>0.595960</td>\n",
       "    </tr>\n",
       "    <tr>\n",
       "      <th>Leaving Las Vegas</th>\n",
       "      <td>0.574386</td>\n",
       "    </tr>\n",
       "    <tr>\n",
       "      <th>Lives of Others, The (Das leben der Anderen)</th>\n",
       "      <td>0.571045</td>\n",
       "    </tr>\n",
       "    <tr>\n",
       "      <th>Outbreak</th>\n",
       "      <td>0.565155</td>\n",
       "    </tr>\n",
       "    <tr>\n",
       "      <th>Quiz Show</th>\n",
       "      <td>0.562970</td>\n",
       "    </tr>\n",
       "    <tr>\n",
       "      <th>Rear Window</th>\n",
       "      <td>0.550143</td>\n",
       "    </tr>\n",
       "    <tr>\n",
       "      <th>My Cousin Vinny</th>\n",
       "      <td>0.538219</td>\n",
       "    </tr>\n",
       "    <tr>\n",
       "      <th>Hancock</th>\n",
       "      <td>0.530761</td>\n",
       "    </tr>\n",
       "    <tr>\n",
       "      <th>Sabrina</th>\n",
       "      <td>0.520088</td>\n",
       "    </tr>\n",
       "  </tbody>\n",
       "</table>\n",
       "</div>"
      ],
      "text/plain": [
       "                                              correlation\n",
       "title                                                    \n",
       "Shawshank Redemption, The                        1.000000\n",
       "Intouchables                                     0.744396\n",
       "Dead Man Walking                                 0.655406\n",
       "Crimson Tide                                     0.633063\n",
       "Wallace & Gromit: A Close Shave                  0.622129\n",
       "Shooter                                          0.601875\n",
       "Four Weddings and a Funeral                      0.595960\n",
       "Leaving Las Vegas                                0.574386\n",
       "Lives of Others, The (Das leben der Anderen)     0.571045\n",
       "Outbreak                                         0.565155\n",
       "Quiz Show                                        0.562970\n",
       "Rear Window                                      0.550143\n",
       "My Cousin Vinny                                  0.538219\n",
       "Hancock                                          0.530761\n",
       "Sabrina                                          0.520088"
      ]
     },
     "execution_count": 10,
     "metadata": {},
     "output_type": "execute_result"
    }
   ],
   "source": [
    "x = get_bin(movie_ratings,\"Shawshank Redemption, The\", start_year=2000, end_year=2020)\n",
    "x.head(15)"
   ]
  },
  {
   "cell_type": "markdown",
   "metadata": {},
   "source": [
    "## Designing KNN Func With Bins"
   ]
  },
  {
   "cell_type": "code",
   "execution_count": 11,
   "metadata": {},
   "outputs": [
    {
     "name": "stdout",
     "output_type": "stream",
     "text": [
      "First Movie Rating:  1996-03-29 18:36:55\n",
      "Today:  2020-03-27 14:09:34.111482\n"
     ]
    }
   ],
   "source": [
    "print(\"First Movie Rating: \", movie_ratings['timestamp'].min() )\n",
    "print(\"Today: \", datetime.now())"
   ]
  },
  {
   "cell_type": "code",
   "execution_count": 107,
   "metadata": {},
   "outputs": [],
   "source": [
    "def print_knn_decay(rating_data, movie_name, k=10, min_common_elements=20,decay_rate=1, decay_interval_in_years=5):\n",
    "    \"\"\"\n",
    "    decay_rate = importance of newer bins, 1 means all equal, 2 means new one 2x imporant than the one before itself\n",
    "    \"\"\"\n",
    "    start_dt = movie_ratings['timestamp'].min()\n",
    "    end_dt = datetime.now()\n",
    "    n_bins = ceil( (end_dt.year - start_dt.year) / decay_interval_in_years )\n",
    "    correlation_dict = defaultdict(float)\n",
    "\n",
    "    for i in range(n_bins):\n",
    "        bin_start_dt = start_dt\n",
    "        start_dt = datetime(start_dt.year+decay_interval_in_years,1,1) \n",
    "        bin_end_dt = start_dt\n",
    "        #print(f\"\\nBin {i}: {bin_start_dt}-{bin_end_dt}\")\n",
    "        \n",
    "        curr_bin = get_bin(movie_ratings,movie_name, start_year=bin_start_dt.year, end_year=bin_end_dt.year)\n",
    "        \n",
    "        for index,row in x.iterrows():\n",
    "            correlation_dict[index] += row.correlation * ((decay_rate ** (i+1)) / ((decay_rate ** (n_bins+1) - 1)/(decay_rate-1)))\n",
    "            \n",
    "        #print(curr_bin.query(f\"correlation > 0.2 & title != '{movie_name}'\").head(k))\n",
    "    dictlist = list()\n",
    "    for key, value in correlation_dict.items():\n",
    "        temp = [key,value]\n",
    "        dictlist.append(temp)\n",
    "    sum_correlations = pd.DataFrame(dictlist, columns = ['title','correlation'])\n",
    "\n",
    "    print(sum_correlations.head(k))\n",
    "    \n",
    "    \n",
    "    "
   ]
  },
  {
   "cell_type": "code",
   "execution_count": 108,
   "metadata": {},
   "outputs": [
    {
     "name": "stdout",
     "output_type": "stream",
     "text": [
      "                                           title  correlation\n",
      "0                      Shawshank Redemption, The     0.984127\n",
      "1                                   Intouchables     0.732581\n",
      "2                               Dead Man Walking     0.645003\n",
      "3                                   Crimson Tide     0.623015\n",
      "4                Wallace & Gromit: A Close Shave     0.612254\n",
      "5                                        Shooter     0.592322\n",
      "6                    Four Weddings and a Funeral     0.586500\n",
      "7                              Leaving Las Vegas     0.565269\n",
      "8   Lives of Others, The (Das leben der Anderen)     0.561981\n",
      "9                                       Outbreak     0.556184\n",
      "10                                     Quiz Show     0.554034\n",
      "11                                   Rear Window     0.541410\n",
      "12                               My Cousin Vinny     0.529676\n",
      "13                                       Hancock     0.522336\n",
      "14                                       Sabrina     0.511833\n"
     ]
    }
   ],
   "source": [
    "print_knn_decay(movie_ratings,\"Shawshank Redemption, The\", k=15, decay_rate=2, decay_interval_in_years=5)"
   ]
  },
  {
   "cell_type": "code",
   "execution_count": 109,
   "metadata": {},
   "outputs": [
    {
     "name": "stdout",
     "output_type": "stream",
     "text": [
      "                                           title  correlation\n",
      "0                      Shawshank Redemption, The     0.998043\n",
      "1                                   Intouchables     0.742940\n",
      "2                               Dead Man Walking     0.654124\n",
      "3                                   Crimson Tide     0.631824\n",
      "4                Wallace & Gromit: A Close Shave     0.620911\n",
      "5                                        Shooter     0.600698\n",
      "6                    Four Weddings and a Funeral     0.594794\n",
      "7                              Leaving Las Vegas     0.573262\n",
      "8   Lives of Others, The (Das leben der Anderen)     0.569928\n",
      "9                                       Outbreak     0.564049\n",
      "10                                     Quiz Show     0.561869\n",
      "11                                   Rear Window     0.549066\n",
      "12                               My Cousin Vinny     0.537166\n",
      "13                                       Hancock     0.529722\n",
      "14                                       Sabrina     0.519070\n"
     ]
    }
   ],
   "source": [
    "print_knn_decay(movie_ratings,\"Shawshank Redemption, The\", k=15, decay_rate=2, decay_interval_in_years=3)"
   ]
  },
  {
   "cell_type": "code",
   "execution_count": 110,
   "metadata": {},
   "outputs": [
    {
     "name": "stdout",
     "output_type": "stream",
     "text": [
      "                                           title  correlation\n",
      "0                      Shawshank Redemption, The     0.933333\n",
      "1                                   Intouchables     0.694770\n",
      "2                               Dead Man Walking     0.611713\n",
      "3                                   Crimson Tide     0.590859\n",
      "4                Wallace & Gromit: A Close Shave     0.580653\n",
      "5                                        Shooter     0.561750\n",
      "6                    Four Weddings and a Funeral     0.556229\n",
      "7                              Leaving Las Vegas     0.536094\n",
      "8   Lives of Others, The (Das leben der Anderen)     0.532976\n",
      "9                                       Outbreak     0.527478\n",
      "10                                     Quiz Show     0.525439\n",
      "11                                   Rear Window     0.513467\n",
      "12                               My Cousin Vinny     0.502338\n",
      "13                                       Hancock     0.495377\n",
      "14                                       Sabrina     0.485416\n"
     ]
    }
   ],
   "source": [
    "print_knn_decay(movie_ratings,\"Shawshank Redemption, The\", k=15, decay_rate=2, decay_interval_in_years=10)"
   ]
  },
  {
   "cell_type": "code",
   "execution_count": null,
   "metadata": {},
   "outputs": [],
   "source": []
  }
 ],
 "metadata": {
  "kernelspec": {
   "display_name": "Python 3",
   "language": "python",
   "name": "python3"
  },
  "language_info": {
   "codemirror_mode": {
    "name": "ipython",
    "version": 3
   },
   "file_extension": ".py",
   "mimetype": "text/x-python",
   "name": "python",
   "nbconvert_exporter": "python",
   "pygments_lexer": "ipython3",
   "version": "3.7.4"
  }
 },
 "nbformat": 4,
 "nbformat_minor": 4
}

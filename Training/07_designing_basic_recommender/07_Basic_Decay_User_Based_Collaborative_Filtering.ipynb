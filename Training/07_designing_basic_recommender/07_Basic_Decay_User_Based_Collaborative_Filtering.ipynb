{
 "cells": [
  {
   "cell_type": "markdown",
   "metadata": {},
   "source": [
    "# Basic Recommendation on Movielens Dataset"
   ]
  },
  {
   "cell_type": "markdown",
   "metadata": {},
   "source": [
    "## Import Libraries"
   ]
  },
  {
   "cell_type": "code",
   "execution_count": 1,
   "metadata": {},
   "outputs": [],
   "source": [
    "import numpy as np\n",
    "import pandas as pd\n",
    "import matplotlib.pyplot as plt\n",
    "import seaborn as sns\n",
    "from math import ceil\n",
    "from datetime import datetime\n",
    "from collections import defaultdict\n",
    "%matplotlib inline\n",
    "sns.set_style('white')"
   ]
  },
  {
   "cell_type": "markdown",
   "metadata": {},
   "source": [
    "## Load Dataset"
   ]
  },
  {
   "cell_type": "code",
   "execution_count": 2,
   "metadata": {},
   "outputs": [
    {
     "data": {
      "text/html": [
       "<div>\n",
       "<style scoped>\n",
       "    .dataframe tbody tr th:only-of-type {\n",
       "        vertical-align: middle;\n",
       "    }\n",
       "\n",
       "    .dataframe tbody tr th {\n",
       "        vertical-align: top;\n",
       "    }\n",
       "\n",
       "    .dataframe thead th {\n",
       "        text-align: right;\n",
       "    }\n",
       "</style>\n",
       "<table border=\"1\" class=\"dataframe\">\n",
       "  <thead>\n",
       "    <tr style=\"text-align: right;\">\n",
       "      <th></th>\n",
       "      <th>user_id</th>\n",
       "      <th>item_id</th>\n",
       "      <th>rating</th>\n",
       "      <th>timestamp</th>\n",
       "    </tr>\n",
       "  </thead>\n",
       "  <tbody>\n",
       "    <tr>\n",
       "      <th>0</th>\n",
       "      <td>1</td>\n",
       "      <td>3</td>\n",
       "      <td>4.0</td>\n",
       "      <td>964981247</td>\n",
       "    </tr>\n",
       "    <tr>\n",
       "      <th>1</th>\n",
       "      <td>1</td>\n",
       "      <td>6</td>\n",
       "      <td>4.0</td>\n",
       "      <td>964982224</td>\n",
       "    </tr>\n",
       "    <tr>\n",
       "      <th>2</th>\n",
       "      <td>1</td>\n",
       "      <td>47</td>\n",
       "      <td>5.0</td>\n",
       "      <td>964983815</td>\n",
       "    </tr>\n",
       "    <tr>\n",
       "      <th>3</th>\n",
       "      <td>1</td>\n",
       "      <td>50</td>\n",
       "      <td>5.0</td>\n",
       "      <td>964982931</td>\n",
       "    </tr>\n",
       "    <tr>\n",
       "      <th>4</th>\n",
       "      <td>1</td>\n",
       "      <td>70</td>\n",
       "      <td>3.0</td>\n",
       "      <td>964982400</td>\n",
       "    </tr>\n",
       "  </tbody>\n",
       "</table>\n",
       "</div>"
      ],
      "text/plain": [
       "   user_id  item_id  rating  timestamp\n",
       "0        1        3     4.0  964981247\n",
       "1        1        6     4.0  964982224\n",
       "2        1       47     5.0  964983815\n",
       "3        1       50     5.0  964982931\n",
       "4        1       70     3.0  964982400"
      ]
     },
     "execution_count": 2,
     "metadata": {},
     "output_type": "execute_result"
    }
   ],
   "source": [
    "col_names = ['user_id', 'item_id', 'rating', 'timestamp']\n",
    "ratings = pd.read_csv(r'C:\\Users\\Yukawa\\datasets\\ml-latest-small\\ratings.csv', sep=',', header=1, names=col_names)\n",
    "ratings.head()"
   ]
  },
  {
   "cell_type": "code",
   "execution_count": 3,
   "metadata": {},
   "outputs": [
    {
     "data": {
      "text/html": [
       "<div>\n",
       "<style scoped>\n",
       "    .dataframe tbody tr th:only-of-type {\n",
       "        vertical-align: middle;\n",
       "    }\n",
       "\n",
       "    .dataframe tbody tr th {\n",
       "        vertical-align: top;\n",
       "    }\n",
       "\n",
       "    .dataframe thead th {\n",
       "        text-align: right;\n",
       "    }\n",
       "</style>\n",
       "<table border=\"1\" class=\"dataframe\">\n",
       "  <thead>\n",
       "    <tr style=\"text-align: right;\">\n",
       "      <th></th>\n",
       "      <th>item_id</th>\n",
       "      <th>title</th>\n",
       "      <th>genres</th>\n",
       "    </tr>\n",
       "  </thead>\n",
       "  <tbody>\n",
       "    <tr>\n",
       "      <th>0</th>\n",
       "      <td>1</td>\n",
       "      <td>Toy Story (1995)</td>\n",
       "      <td>Adventure|Animation|Children|Comedy|Fantasy</td>\n",
       "    </tr>\n",
       "    <tr>\n",
       "      <th>1</th>\n",
       "      <td>2</td>\n",
       "      <td>Jumanji (1995)</td>\n",
       "      <td>Adventure|Children|Fantasy</td>\n",
       "    </tr>\n",
       "    <tr>\n",
       "      <th>2</th>\n",
       "      <td>3</td>\n",
       "      <td>Grumpier Old Men (1995)</td>\n",
       "      <td>Comedy|Romance</td>\n",
       "    </tr>\n",
       "    <tr>\n",
       "      <th>3</th>\n",
       "      <td>4</td>\n",
       "      <td>Waiting to Exhale (1995)</td>\n",
       "      <td>Comedy|Drama|Romance</td>\n",
       "    </tr>\n",
       "    <tr>\n",
       "      <th>4</th>\n",
       "      <td>5</td>\n",
       "      <td>Father of the Bride Part II (1995)</td>\n",
       "      <td>Comedy</td>\n",
       "    </tr>\n",
       "  </tbody>\n",
       "</table>\n",
       "</div>"
      ],
      "text/plain": [
       "   item_id                               title  \\\n",
       "0        1                    Toy Story (1995)   \n",
       "1        2                      Jumanji (1995)   \n",
       "2        3             Grumpier Old Men (1995)   \n",
       "3        4            Waiting to Exhale (1995)   \n",
       "4        5  Father of the Bride Part II (1995)   \n",
       "\n",
       "                                        genres  \n",
       "0  Adventure|Animation|Children|Comedy|Fantasy  \n",
       "1                   Adventure|Children|Fantasy  \n",
       "2                               Comedy|Romance  \n",
       "3                         Comedy|Drama|Romance  \n",
       "4                                       Comedy  "
      ]
     },
     "execution_count": 3,
     "metadata": {},
     "output_type": "execute_result"
    }
   ],
   "source": [
    "col_names = ['item_id', 'title', 'genres']\n",
    "movies = pd.read_csv(r'C:\\Users\\Yukawa\\datasets\\ml-latest-small\\movies.csv', sep=',', header=0, names=col_names)\n",
    "movies.head()"
   ]
  },
  {
   "cell_type": "code",
   "execution_count": 4,
   "metadata": {},
   "outputs": [],
   "source": [
    "movies['year'] = movies.title.str.extract(\"\\((\\d{4})\\)\", expand=True)\n",
    "movies.year = pd.to_datetime(movies.year, format='%Y')\n",
    "movies.year = movies.year.dt.year # As there are some NaN years, resulting type will be float (decimals)\n",
    "movies.title = movies.title.str[:-7]"
   ]
  },
  {
   "cell_type": "code",
   "execution_count": 5,
   "metadata": {},
   "outputs": [],
   "source": [
    "ratings['timestamp'] = pd.to_datetime(ratings['timestamp'], unit='s', origin='unix')"
   ]
  },
  {
   "cell_type": "code",
   "execution_count": 6,
   "metadata": {},
   "outputs": [
    {
     "data": {
      "text/html": [
       "<div>\n",
       "<style scoped>\n",
       "    .dataframe tbody tr th:only-of-type {\n",
       "        vertical-align: middle;\n",
       "    }\n",
       "\n",
       "    .dataframe tbody tr th {\n",
       "        vertical-align: top;\n",
       "    }\n",
       "\n",
       "    .dataframe thead th {\n",
       "        text-align: right;\n",
       "    }\n",
       "</style>\n",
       "<table border=\"1\" class=\"dataframe\">\n",
       "  <thead>\n",
       "    <tr style=\"text-align: right;\">\n",
       "      <th></th>\n",
       "      <th>user_id</th>\n",
       "      <th>item_id</th>\n",
       "      <th>rating</th>\n",
       "      <th>timestamp</th>\n",
       "      <th>title</th>\n",
       "      <th>genres</th>\n",
       "      <th>year</th>\n",
       "    </tr>\n",
       "  </thead>\n",
       "  <tbody>\n",
       "    <tr>\n",
       "      <th>0</th>\n",
       "      <td>1</td>\n",
       "      <td>3</td>\n",
       "      <td>4.0</td>\n",
       "      <td>2000-07-30 18:20:47</td>\n",
       "      <td>Grumpier Old Men</td>\n",
       "      <td>Comedy|Romance</td>\n",
       "      <td>1995.0</td>\n",
       "    </tr>\n",
       "    <tr>\n",
       "      <th>1</th>\n",
       "      <td>6</td>\n",
       "      <td>3</td>\n",
       "      <td>5.0</td>\n",
       "      <td>1996-10-17 12:11:36</td>\n",
       "      <td>Grumpier Old Men</td>\n",
       "      <td>Comedy|Romance</td>\n",
       "      <td>1995.0</td>\n",
       "    </tr>\n",
       "    <tr>\n",
       "      <th>2</th>\n",
       "      <td>19</td>\n",
       "      <td>3</td>\n",
       "      <td>3.0</td>\n",
       "      <td>2000-08-08 04:07:16</td>\n",
       "      <td>Grumpier Old Men</td>\n",
       "      <td>Comedy|Romance</td>\n",
       "      <td>1995.0</td>\n",
       "    </tr>\n",
       "    <tr>\n",
       "      <th>3</th>\n",
       "      <td>32</td>\n",
       "      <td>3</td>\n",
       "      <td>3.0</td>\n",
       "      <td>1997-02-23 22:16:12</td>\n",
       "      <td>Grumpier Old Men</td>\n",
       "      <td>Comedy|Romance</td>\n",
       "      <td>1995.0</td>\n",
       "    </tr>\n",
       "    <tr>\n",
       "      <th>4</th>\n",
       "      <td>42</td>\n",
       "      <td>3</td>\n",
       "      <td>4.0</td>\n",
       "      <td>2001-07-27 08:04:05</td>\n",
       "      <td>Grumpier Old Men</td>\n",
       "      <td>Comedy|Romance</td>\n",
       "      <td>1995.0</td>\n",
       "    </tr>\n",
       "  </tbody>\n",
       "</table>\n",
       "</div>"
      ],
      "text/plain": [
       "   user_id  item_id  rating           timestamp             title  \\\n",
       "0        1        3     4.0 2000-07-30 18:20:47  Grumpier Old Men   \n",
       "1        6        3     5.0 1996-10-17 12:11:36  Grumpier Old Men   \n",
       "2       19        3     3.0 2000-08-08 04:07:16  Grumpier Old Men   \n",
       "3       32        3     3.0 1997-02-23 22:16:12  Grumpier Old Men   \n",
       "4       42        3     4.0 2001-07-27 08:04:05  Grumpier Old Men   \n",
       "\n",
       "           genres    year  \n",
       "0  Comedy|Romance  1995.0  \n",
       "1  Comedy|Romance  1995.0  \n",
       "2  Comedy|Romance  1995.0  \n",
       "3  Comedy|Romance  1995.0  \n",
       "4  Comedy|Romance  1995.0  "
      ]
     },
     "execution_count": 6,
     "metadata": {},
     "output_type": "execute_result"
    }
   ],
   "source": [
    "movie_ratings = pd.merge(ratings, movies, on='item_id')\n",
    "movie_ratings.head()"
   ]
  },
  {
   "cell_type": "code",
   "execution_count": 7,
   "metadata": {},
   "outputs": [
    {
     "name": "stdout",
     "output_type": "stream",
     "text": [
      "2.607396870554765\n"
     ]
    }
   ],
   "source": [
    "x = movie_ratings.loc[(movie_ratings['user_id'] == 19)].rating.mean()\n",
    "print(x)"
   ]
  },
  {
   "cell_type": "markdown",
   "metadata": {},
   "source": [
    "## Dataset Analysis"
   ]
  },
  {
   "cell_type": "markdown",
   "metadata": {},
   "source": [
    "### Current Dataset Info"
   ]
  },
  {
   "cell_type": "code",
   "execution_count": 8,
   "metadata": {},
   "outputs": [
    {
     "name": "stdout",
     "output_type": "stream",
     "text": [
      "Raw data size:  (100835, 4) \n",
      "Number of Unique users:  610 \n",
      "Number of Unique movies:  9724 \n",
      "Number of Unique ratings:  10 \n",
      "Unique ratings:  [0.5 1.  1.5 2.  2.5 3.  3.5 4.  4.5 5. ]\n"
     ]
    }
   ],
   "source": [
    "print(\"Raw data size: \", ratings.shape,\n",
    "    \"\\nNumber of Unique users: \", len(ratings['user_id'].unique()),\n",
    "    \"\\nNumber of Unique movies: \", len(ratings['item_id'].unique()),\n",
    "    \"\\nNumber of Unique ratings: \", len(ratings['rating'].unique()),     # 0, 0.5, 1, 1.5, ... 5.0\n",
    "    \"\\nUnique ratings: \", ratings['rating'].sort_values().unique(),\n",
    "     )"
   ]
  },
  {
   "cell_type": "markdown",
   "metadata": {},
   "source": [
    "### Most Active Users"
   ]
  },
  {
   "cell_type": "code",
   "execution_count": 9,
   "metadata": {
    "scrolled": true
   },
   "outputs": [
    {
     "data": {
      "text/html": [
       "<div>\n",
       "<style scoped>\n",
       "    .dataframe tbody tr th:only-of-type {\n",
       "        vertical-align: middle;\n",
       "    }\n",
       "\n",
       "    .dataframe tbody tr th {\n",
       "        vertical-align: top;\n",
       "    }\n",
       "\n",
       "    .dataframe thead th {\n",
       "        text-align: right;\n",
       "    }\n",
       "</style>\n",
       "<table border=\"1\" class=\"dataframe\">\n",
       "  <thead>\n",
       "    <tr style=\"text-align: right;\">\n",
       "      <th></th>\n",
       "      <th>rating</th>\n",
       "      <th>No_of_ratings</th>\n",
       "    </tr>\n",
       "    <tr>\n",
       "      <th>user_id</th>\n",
       "      <th></th>\n",
       "      <th></th>\n",
       "    </tr>\n",
       "  </thead>\n",
       "  <tbody>\n",
       "    <tr>\n",
       "      <th>414</th>\n",
       "      <td>3.391957</td>\n",
       "      <td>2698</td>\n",
       "    </tr>\n",
       "    <tr>\n",
       "      <th>599</th>\n",
       "      <td>2.642050</td>\n",
       "      <td>2478</td>\n",
       "    </tr>\n",
       "    <tr>\n",
       "      <th>474</th>\n",
       "      <td>3.398956</td>\n",
       "      <td>2108</td>\n",
       "    </tr>\n",
       "    <tr>\n",
       "      <th>448</th>\n",
       "      <td>2.847371</td>\n",
       "      <td>1864</td>\n",
       "    </tr>\n",
       "    <tr>\n",
       "      <th>274</th>\n",
       "      <td>3.235884</td>\n",
       "      <td>1346</td>\n",
       "    </tr>\n",
       "    <tr>\n",
       "      <th>610</th>\n",
       "      <td>3.688556</td>\n",
       "      <td>1302</td>\n",
       "    </tr>\n",
       "    <tr>\n",
       "      <th>68</th>\n",
       "      <td>3.233730</td>\n",
       "      <td>1260</td>\n",
       "    </tr>\n",
       "    <tr>\n",
       "      <th>380</th>\n",
       "      <td>3.673235</td>\n",
       "      <td>1218</td>\n",
       "    </tr>\n",
       "    <tr>\n",
       "      <th>606</th>\n",
       "      <td>3.657399</td>\n",
       "      <td>1115</td>\n",
       "    </tr>\n",
       "    <tr>\n",
       "      <th>288</th>\n",
       "      <td>3.145972</td>\n",
       "      <td>1055</td>\n",
       "    </tr>\n",
       "    <tr>\n",
       "      <th>249</th>\n",
       "      <td>3.696463</td>\n",
       "      <td>1046</td>\n",
       "    </tr>\n",
       "    <tr>\n",
       "      <th>387</th>\n",
       "      <td>3.258520</td>\n",
       "      <td>1027</td>\n",
       "    </tr>\n",
       "    <tr>\n",
       "      <th>182</th>\n",
       "      <td>3.511259</td>\n",
       "      <td>977</td>\n",
       "    </tr>\n",
       "    <tr>\n",
       "      <th>307</th>\n",
       "      <td>2.665641</td>\n",
       "      <td>975</td>\n",
       "    </tr>\n",
       "    <tr>\n",
       "      <th>603</th>\n",
       "      <td>3.507953</td>\n",
       "      <td>943</td>\n",
       "    </tr>\n",
       "    <tr>\n",
       "      <th>298</th>\n",
       "      <td>2.363685</td>\n",
       "      <td>939</td>\n",
       "    </tr>\n",
       "    <tr>\n",
       "      <th>177</th>\n",
       "      <td>3.375553</td>\n",
       "      <td>904</td>\n",
       "    </tr>\n",
       "    <tr>\n",
       "      <th>318</th>\n",
       "      <td>3.755973</td>\n",
       "      <td>879</td>\n",
       "    </tr>\n",
       "    <tr>\n",
       "      <th>232</th>\n",
       "      <td>3.250580</td>\n",
       "      <td>862</td>\n",
       "    </tr>\n",
       "    <tr>\n",
       "      <th>480</th>\n",
       "      <td>3.275120</td>\n",
       "      <td>836</td>\n",
       "    </tr>\n",
       "  </tbody>\n",
       "</table>\n",
       "</div>"
      ],
      "text/plain": [
       "           rating  No_of_ratings\n",
       "user_id                         \n",
       "414      3.391957           2698\n",
       "599      2.642050           2478\n",
       "474      3.398956           2108\n",
       "448      2.847371           1864\n",
       "274      3.235884           1346\n",
       "610      3.688556           1302\n",
       "68       3.233730           1260\n",
       "380      3.673235           1218\n",
       "606      3.657399           1115\n",
       "288      3.145972           1055\n",
       "249      3.696463           1046\n",
       "387      3.258520           1027\n",
       "182      3.511259            977\n",
       "307      2.665641            975\n",
       "603      3.507953            943\n",
       "298      2.363685            939\n",
       "177      3.375553            904\n",
       "318      3.755973            879\n",
       "232      3.250580            862\n",
       "480      3.275120            836"
      ]
     },
     "execution_count": 9,
     "metadata": {},
     "output_type": "execute_result"
    }
   ],
   "source": [
    "active_user_ratings = pd.DataFrame(movie_ratings.groupby('user_id')['rating'].mean())\n",
    "active_user_ratings['No_of_ratings'] = pd.DataFrame(movie_ratings.groupby('user_id')['rating'].count())\n",
    "active_user_ratings.sort_values(by=['No_of_ratings'], ascending=False).head(20)"
   ]
  },
  {
   "cell_type": "markdown",
   "metadata": {},
   "source": [
    "## Most Rated Movies"
   ]
  },
  {
   "cell_type": "code",
   "execution_count": 10,
   "metadata": {
    "scrolled": true
   },
   "outputs": [
    {
     "data": {
      "text/html": [
       "<div>\n",
       "<style scoped>\n",
       "    .dataframe tbody tr th:only-of-type {\n",
       "        vertical-align: middle;\n",
       "    }\n",
       "\n",
       "    .dataframe tbody tr th {\n",
       "        vertical-align: top;\n",
       "    }\n",
       "\n",
       "    .dataframe thead th {\n",
       "        text-align: right;\n",
       "    }\n",
       "</style>\n",
       "<table border=\"1\" class=\"dataframe\">\n",
       "  <thead>\n",
       "    <tr style=\"text-align: right;\">\n",
       "      <th></th>\n",
       "      <th>title</th>\n",
       "      <th>mean_rating</th>\n",
       "      <th>No_of_ratings</th>\n",
       "    </tr>\n",
       "    <tr>\n",
       "      <th>item_id</th>\n",
       "      <th></th>\n",
       "      <th></th>\n",
       "      <th></th>\n",
       "    </tr>\n",
       "  </thead>\n",
       "  <tbody>\n",
       "    <tr>\n",
       "      <th>356</th>\n",
       "      <td>Forrest Gump</td>\n",
       "      <td>4.164134</td>\n",
       "      <td>329</td>\n",
       "    </tr>\n",
       "    <tr>\n",
       "      <th>318</th>\n",
       "      <td>Shawshank Redemption, The</td>\n",
       "      <td>4.429022</td>\n",
       "      <td>317</td>\n",
       "    </tr>\n",
       "    <tr>\n",
       "      <th>296</th>\n",
       "      <td>Pulp Fiction</td>\n",
       "      <td>4.197068</td>\n",
       "      <td>307</td>\n",
       "    </tr>\n",
       "    <tr>\n",
       "      <th>593</th>\n",
       "      <td>Silence of the Lambs, The</td>\n",
       "      <td>4.161290</td>\n",
       "      <td>279</td>\n",
       "    </tr>\n",
       "    <tr>\n",
       "      <th>2571</th>\n",
       "      <td>Matrix, The</td>\n",
       "      <td>4.192446</td>\n",
       "      <td>278</td>\n",
       "    </tr>\n",
       "    <tr>\n",
       "      <th>260</th>\n",
       "      <td>Star Wars: Episode IV - A New Hope</td>\n",
       "      <td>4.231076</td>\n",
       "      <td>251</td>\n",
       "    </tr>\n",
       "    <tr>\n",
       "      <th>480</th>\n",
       "      <td>Jurassic Park</td>\n",
       "      <td>3.750000</td>\n",
       "      <td>238</td>\n",
       "    </tr>\n",
       "    <tr>\n",
       "      <th>110</th>\n",
       "      <td>Braveheart</td>\n",
       "      <td>4.031646</td>\n",
       "      <td>237</td>\n",
       "    </tr>\n",
       "    <tr>\n",
       "      <th>589</th>\n",
       "      <td>Terminator 2: Judgment Day</td>\n",
       "      <td>3.970982</td>\n",
       "      <td>224</td>\n",
       "    </tr>\n",
       "    <tr>\n",
       "      <th>527</th>\n",
       "      <td>Schindler's List</td>\n",
       "      <td>4.225000</td>\n",
       "      <td>220</td>\n",
       "    </tr>\n",
       "    <tr>\n",
       "      <th>2959</th>\n",
       "      <td>Fight Club</td>\n",
       "      <td>4.272936</td>\n",
       "      <td>218</td>\n",
       "    </tr>\n",
       "    <tr>\n",
       "      <th>1</th>\n",
       "      <td>Toy Story</td>\n",
       "      <td>3.920561</td>\n",
       "      <td>214</td>\n",
       "    </tr>\n",
       "    <tr>\n",
       "      <th>1196</th>\n",
       "      <td>Star Wars: Episode V - The Empire Strikes Back</td>\n",
       "      <td>4.215640</td>\n",
       "      <td>211</td>\n",
       "    </tr>\n",
       "    <tr>\n",
       "      <th>2858</th>\n",
       "      <td>American Beauty</td>\n",
       "      <td>4.056373</td>\n",
       "      <td>204</td>\n",
       "    </tr>\n",
       "    <tr>\n",
       "      <th>50</th>\n",
       "      <td>Usual Suspects, The</td>\n",
       "      <td>4.237745</td>\n",
       "      <td>204</td>\n",
       "    </tr>\n",
       "    <tr>\n",
       "      <th>47</th>\n",
       "      <td>Seven (a.k.a. Se7en)</td>\n",
       "      <td>3.975369</td>\n",
       "      <td>203</td>\n",
       "    </tr>\n",
       "    <tr>\n",
       "      <th>780</th>\n",
       "      <td>Independence Day (a.k.a. ID4)</td>\n",
       "      <td>3.445545</td>\n",
       "      <td>202</td>\n",
       "    </tr>\n",
       "    <tr>\n",
       "      <th>150</th>\n",
       "      <td>Apollo 13</td>\n",
       "      <td>3.845771</td>\n",
       "      <td>201</td>\n",
       "    </tr>\n",
       "    <tr>\n",
       "      <th>1198</th>\n",
       "      <td>Raiders of the Lost Ark (Indiana Jones and the...</td>\n",
       "      <td>4.207500</td>\n",
       "      <td>200</td>\n",
       "    </tr>\n",
       "    <tr>\n",
       "      <th>4993</th>\n",
       "      <td>Lord of the Rings: The Fellowship of the Ring,...</td>\n",
       "      <td>4.106061</td>\n",
       "      <td>198</td>\n",
       "    </tr>\n",
       "  </tbody>\n",
       "</table>\n",
       "</div>"
      ],
      "text/plain": [
       "                                                     title  mean_rating  \\\n",
       "item_id                                                                   \n",
       "356                                           Forrest Gump     4.164134   \n",
       "318                              Shawshank Redemption, The     4.429022   \n",
       "296                                           Pulp Fiction     4.197068   \n",
       "593                              Silence of the Lambs, The     4.161290   \n",
       "2571                                           Matrix, The     4.192446   \n",
       "260                     Star Wars: Episode IV - A New Hope     4.231076   \n",
       "480                                          Jurassic Park     3.750000   \n",
       "110                                             Braveheart     4.031646   \n",
       "589                             Terminator 2: Judgment Day     3.970982   \n",
       "527                                       Schindler's List     4.225000   \n",
       "2959                                            Fight Club     4.272936   \n",
       "1                                                Toy Story     3.920561   \n",
       "1196        Star Wars: Episode V - The Empire Strikes Back     4.215640   \n",
       "2858                                       American Beauty     4.056373   \n",
       "50                                     Usual Suspects, The     4.237745   \n",
       "47                                    Seven (a.k.a. Se7en)     3.975369   \n",
       "780                          Independence Day (a.k.a. ID4)     3.445545   \n",
       "150                                              Apollo 13     3.845771   \n",
       "1198     Raiders of the Lost Ark (Indiana Jones and the...     4.207500   \n",
       "4993     Lord of the Rings: The Fellowship of the Ring,...     4.106061   \n",
       "\n",
       "         No_of_ratings  \n",
       "item_id                 \n",
       "356                329  \n",
       "318                317  \n",
       "296                307  \n",
       "593                279  \n",
       "2571               278  \n",
       "260                251  \n",
       "480                238  \n",
       "110                237  \n",
       "589                224  \n",
       "527                220  \n",
       "2959               218  \n",
       "1                  214  \n",
       "1196               211  \n",
       "2858               204  \n",
       "50                 204  \n",
       "47                 203  \n",
       "780                202  \n",
       "150                201  \n",
       "1198               200  \n",
       "4993               198  "
      ]
     },
     "execution_count": 10,
     "metadata": {},
     "output_type": "execute_result"
    }
   ],
   "source": [
    "mean_ratings = pd.DataFrame(movie_ratings.groupby('title')['rating'].mean())\n",
    "mean_ratings['No_of_ratings'] = pd.DataFrame(movie_ratings.groupby('title')['rating'].count())\n",
    "movies_with_mean_ratings = pd.merge(movies[['item_id','title']], mean_ratings, on='title').set_index('item_id')\n",
    "movies_with_mean_ratings.columns = ['title', 'mean_rating', 'No_of_ratings']\n",
    "movies_with_mean_ratings.sort_values(by=['No_of_ratings'], ascending=False).head(20)"
   ]
  },
  {
   "cell_type": "markdown",
   "metadata": {},
   "source": [
    "## Predict Assuming System at The Given Specific Time"
   ]
  },
  {
   "cell_type": "code",
   "execution_count": 11,
   "metadata": {},
   "outputs": [],
   "source": [
    "def get_user_correlations_at(movie_ratings_data, user_id, \n",
    "                             min_common_elements=20, \n",
    "                             year=2000, month=1, day=15):\n",
    "\n",
    "    \"\"\"\n",
    "        Get the correlations of the 'user_id' to all other users assuming SYSTEM IS AT THE GIVEN DATE.\n",
    "        Correlation is calculated if and only if both of them rated 'min_common_elements' number of elements in common.\n",
    "    \"\"\"\n",
    "    \n",
    "    # User Movie Matrix, Rows-> Movie_Titles :: Columns -> User_IDs :: Values -> User Ratings\n",
    "    # Only those ratings given before 'year/month/day' is included.\n",
    "    user_movie_matrix = movie_ratings_data[(movie_ratings_data.timestamp < datetime(year, month, day))].pivot_table(index='title', columns='user_id', values='rating') \n",
    "    \n",
    "    # Create a matrix of correlations :: Each row is a user, the columns are the all other users, values are the pearson corrs\n",
    "    corrs = user_movie_matrix.corr(method='pearson', min_periods=min_common_elements)\n",
    "    \n",
    "    try:\n",
    "        # Get the correlations of 'user_id'\n",
    "        user_corrs = corrs[user_id]\n",
    "    except(KeyError):\n",
    "        # No Correlations found\n",
    "        return None\n",
    "\n",
    "    # Drop any null if found\n",
    "    user_corrs.dropna(inplace=True)\n",
    "    \n",
    "    # Create A dataframe from not-null correlations of the 'user_id'\n",
    "    users_alike = pd.DataFrame(user_corrs)\n",
    "    \n",
    "    # Rename the only column to 'correlation'\n",
    "    users_alike.columns= ['correlation']\n",
    "    \n",
    "    # Sort the user correlations in descending order so that first one is the most similar, last one least similar\n",
    "    users_alike.sort_values(by='correlation', ascending=False, inplace=True)\n",
    "    \n",
    "    # Eliminate Correlation to itself by deleting first row, since biggest corr is with itself it is in first row\n",
    "    users_alike = users_alike.iloc[1:] \n",
    "    \n",
    "    return users_alike"
   ]
  },
  {
   "cell_type": "code",
   "execution_count": 12,
   "metadata": {},
   "outputs": [],
   "source": [
    "def predict_movie_at(movie_ratings_data, user_id, movie_id, \n",
    "                     min_common_elements = 20,\n",
    "                     year = 2015, month = 7, day = 15,\n",
    "                     default_value=-2):\n",
    "    \n",
    "    # If a movie with movie_id not exists, return -1\n",
    "    if movie_ratings_data.loc[movie_ratings_data['item_id'] == movie_id] is None:\n",
    "        return -1\n",
    "    \n",
    "    # Calculate User Correlations at given system date\n",
    "    k_nearest_neighbours = get_user_correlations_at(movie_ratings_data, user_id, min_common_elements, year, month, day)\n",
    "\n",
    "    # If no neighbour is found call the user supplied function\n",
    "    if k_nearest_neighbours is None:\n",
    "        return default_value\n",
    "    \n",
    "    weighted_sum = 0.0\n",
    "    sum_of_weights = 0.0\n",
    "    for neighbour_id, data in k_nearest_neighbours.iterrows():\n",
    "        # Get each neighbour's correlation 'user_id' and her rating to 'movie_id' \n",
    "        neighbour_corr = data['correlation']\n",
    "        neighbour_data = movie_ratings_data.loc[(movie_ratings_data['user_id'] == neighbour_id) & (movie_ratings['item_id'] == movie_id)]\n",
    "        if neighbour_data.empty:\n",
    "            continue\n",
    "        neighbour_rating = float(neighbour_data.rating)\n",
    "        # Calculate Weighted sum and sum of weights\n",
    "        weighted_sum += neighbour_rating * neighbour_corr\n",
    "        sum_of_weights += neighbour_corr\n",
    "    \n",
    "    # Predict\n",
    "    if sum_of_weights != 0.0:\n",
    "        prediction_rating = weighted_sum / sum_of_weights\n",
    "    else:\n",
    "        prediction_rating = default_value\n",
    "    return prediction_rating"
   ]
  },
  {
   "cell_type": "code",
   "execution_count": 13,
   "metadata": {},
   "outputs": [
    {
     "name": "stdout",
     "output_type": "stream",
     "text": [
      "3.148452477590854\n"
     ]
    }
   ],
   "source": [
    "x = predict_movie_at(movie_ratings,449,3, year=2015, month=1,day=1)\n",
    "print(x)"
   ]
  },
  {
   "cell_type": "markdown",
   "metadata": {},
   "source": [
    "## Predict Assuming System in Given Time Interval"
   ]
  },
  {
   "cell_type": "code",
   "execution_count": 14,
   "metadata": {},
   "outputs": [],
   "source": [
    "def get_user_correlations_in(movie_ratings_data, user_id, \n",
    "                             min_common_elements=20, \n",
    "                             start_year=1995, start_month=1, start_day=15,\n",
    "                             end_year=2000, end_month=1, end_day=15):\n",
    "\n",
    "    \"\"\"\n",
    "        Get the correlations of the 'user_id' to all other users assuming rating collection started at 'start_year' ended at 'end_year'\n",
    "        Correlation is calculated if and only if both of them rated 'min_common_elements' number of elements in common.\n",
    "    \"\"\"\n",
    "    \n",
    "    # User Movie Matrix, Rows-> Movie_Titles :: Columns -> User_IDs :: Values -> User Ratings\n",
    "    # Only those ratings given before 'year/month/day' is included.\n",
    "    user_movie_matrix = movie_ratings_data[(movie_ratings_data.timestamp >= datetime(start_year, start_month, start_day)) & (movie_ratings_data.timestamp < datetime(end_year, end_month, end_day))].pivot_table(index='title', columns='user_id', values='rating') \n",
    "    \n",
    "    # Create a matrix of correlations :: Each row is a user, the columns are the all other users, values are the pearson corrs\n",
    "    corrs = user_movie_matrix.corr(method='pearson', min_periods=min_common_elements)\n",
    "    \n",
    "    try:\n",
    "        # Get the correlations of 'user_id'\n",
    "        user_corrs = corrs[user_id]\n",
    "    except(KeyError):\n",
    "        # No Correlations found\n",
    "        return None\n",
    "\n",
    "    # Drop any null if found\n",
    "    user_corrs.dropna(inplace=True)\n",
    "    \n",
    "    # Create A dataframe from not-null correlations of the 'user_id'\n",
    "    users_alike = pd.DataFrame(user_corrs)\n",
    "    \n",
    "    # Rename the only column to 'correlation'\n",
    "    users_alike.columns= ['correlation']\n",
    "    \n",
    "    # Sort the user correlations in descending order so that first one is the most similar, last one least similar\n",
    "    users_alike.sort_values(by='correlation', ascending=False, inplace=True)\n",
    "    \n",
    "    # Eliminate Correlation to itself by deleting first row, since biggest corr is with itself it is in first row\n",
    "    users_alike = users_alike.iloc[1:] \n",
    "    \n",
    "    return users_alike"
   ]
  },
  {
   "cell_type": "code",
   "execution_count": 15,
   "metadata": {},
   "outputs": [],
   "source": [
    "def predict_movie_in(movie_ratings_data, user_id, movie_id, \n",
    "                     min_common_elements = 20,\n",
    "                     start_year=1995, start_month=1, start_day=15,\n",
    "                     end_year=2000, end_month=1, end_day=15,\n",
    "                     default_value=-2):\n",
    "    \n",
    "    # If a movie with movie_id not exists, return -1\n",
    "    if movie_ratings_data.loc[movie_ratings_data['item_id'] == movie_id] is None:\n",
    "        return -1\n",
    "    \n",
    "    # Calculate User Correlations at given system date\n",
    "    k_nearest_neighbours = get_user_correlations_in(movie_ratings_data, user_id, min_common_elements, \n",
    "                                                    start_year, start_month, start_day,\n",
    "                                                    end_year, end_month, end_day)\n",
    "    \n",
    "    # If no neighbour is found call the user supplied function\n",
    "    if k_nearest_neighbours is None:\n",
    "        return default_value\n",
    "    \n",
    "    weighted_sum = 0.0\n",
    "    sum_of_weights = 0.0\n",
    "    for neighbour_id, data in k_nearest_neighbours.iterrows():\n",
    "        # Get each neighbour's correlation 'user_id' and her rating to 'movie_id' \n",
    "        neighbour_corr = data['correlation']\n",
    "        neighbour_data = movie_ratings_data.loc[(movie_ratings_data['user_id'] == neighbour_id) & (movie_ratings['item_id'] == movie_id)]\n",
    "        if neighbour_data.empty:\n",
    "            continue\n",
    "        neighbour_rating = float(neighbour_data.rating)\n",
    "        # Calculate Weighted sum and sum of weights\n",
    "        weighted_sum += neighbour_rating * neighbour_corr\n",
    "        sum_of_weights += neighbour_corr\n",
    "    \n",
    "    # Predict\n",
    "    if sum_of_weights != 0.0:\n",
    "        prediction_rating = weighted_sum / sum_of_weights\n",
    "    else:\n",
    "        prediction_rating = default_value\n",
    "    return prediction_rating"
   ]
  },
  {
   "cell_type": "code",
   "execution_count": 16,
   "metadata": {},
   "outputs": [
    {
     "data": {
      "text/plain": [
       "3.0909869004190123"
      ]
     },
     "execution_count": 16,
     "metadata": {},
     "output_type": "execute_result"
    }
   ],
   "source": [
    "predict_movie_in(movie_ratings,\n",
    "                 user_id=449,\n",
    "                 movie_id=3, \n",
    "                 min_common_elements = 2,\n",
    "                 start_year=2000, start_month=7, start_day=15, \n",
    "                 end_year=2020, end_month=7, end_day=15,\n",
    "                 default_value=0)"
   ]
  },
  {
   "cell_type": "code",
   "execution_count": 17,
   "metadata": {},
   "outputs": [
    {
     "data": {
      "text/plain": [
       "0"
      ]
     },
     "execution_count": 17,
     "metadata": {},
     "output_type": "execute_result"
    }
   ],
   "source": [
    "predict_movie_in(movie_ratings,\n",
    "                 user_id=449,\n",
    "                 movie_id=3, \n",
    "                 min_common_elements = 2,\n",
    "                 start_year=2005, start_month=7, start_day=15, \n",
    "                 end_year=2010, end_month=7, end_day=15,\n",
    "                 default_value=0)"
   ]
  },
  {
   "cell_type": "markdown",
   "metadata": {},
   "source": [
    "## Let's Predict Ratings of All Movies Watched by a User"
   ]
  },
  {
   "cell_type": "code",
   "execution_count": 18,
   "metadata": {},
   "outputs": [],
   "source": [
    "def get_movies_watched(movie_ratings_data, user_id, year = 2015, month = 7, day = 15):\n",
    "    return movie_ratings.loc[((movie_ratings_data['user_id'] == user_id)) & (movie_ratings_data.timestamp < datetime(year, month, day))][['title','rating']]"
   ]
  },
  {
   "cell_type": "code",
   "execution_count": 19,
   "metadata": {},
   "outputs": [
    {
     "name": "stdout",
     "output_type": "stream",
     "text": [
      "                             title  rating\n",
      "515            Usual Suspects, The     4.5\n",
      "3515              Schindler's List     4.0\n",
      "6177                       Platoon     3.5\n",
      "8053             Full Metal Jacket     3.0\n",
      "10496  Back to the Future Part III     2.5\n",
      "10838     Honey, I Shrunk the Kids     2.0\n",
      "11746           American History X     4.5\n",
      "11951                     Rushmore     4.0\n",
      "12257                 Office Space     4.5\n",
      "12844                   Mummy, The     2.5\n"
     ]
    }
   ],
   "source": [
    "print(get_movies_watched(movie_ratings, 449).head(10))"
   ]
  },
  {
   "cell_type": "code",
   "execution_count": 20,
   "metadata": {},
   "outputs": [],
   "source": [
    "def get_user_avg_rating_at(movie_ratings_data, user_id, year = 2015, month = 7, day = 15):\n",
    "    return movie_ratings.loc[((movie_ratings_data['user_id'] == user_id)) & (movie_ratings_data.timestamp < datetime(year, month, day))].rating.mean()"
   ]
  },
  {
   "cell_type": "code",
   "execution_count": 21,
   "metadata": {},
   "outputs": [
    {
     "name": "stdout",
     "output_type": "stream",
     "text": [
      "3.289473684210526\n"
     ]
    }
   ],
   "source": [
    "print(get_user_avg_rating_at(movie_ratings, 449))"
   ]
  },
  {
   "cell_type": "code",
   "execution_count": 22,
   "metadata": {},
   "outputs": [],
   "source": [
    "def predict_all_watched_movies(movie_ratings_data, user_id,\n",
    "                               min_common_elements = 20, \n",
    "                               year = 2015, month = 7, day = 15, default_value=0):\n",
    "    movies_watched = ratings.loc[((ratings['user_id'] == user_id)) & (ratings.timestamp < datetime(year, month, day))][['item_id','rating']]\n",
    "    \n",
    "    number_of_predictions = 0.0\n",
    "    sum_of_square_differences = 0.0\n",
    "    for _,row in movies_watched.iterrows():\n",
    "        prediction = predict_movie_at(movie_ratings_data,\n",
    "                                      user_id=user_id,\n",
    "                                      movie_id=row['item_id'],\n",
    "                                      year=year, month=month, day=day,\n",
    "                                      min_common_elements=min_common_elements, \n",
    "                                      default_value=default_value)\n",
    "        sum_of_square_differences += (row['rating'] - prediction) ** 2\n",
    "        number_of_predictions += 1\n",
    "        print(f\"Rating={row['rating']}, Predicted={prediction}, Movie_id={row['item_id']}\")\n",
    "    rmse = sum_of_square_differences/number_of_predictions\n",
    "    print(f\"RMSE = {rmse}\")"
   ]
  },
  {
   "cell_type": "code",
   "execution_count": 23,
   "metadata": {
    "scrolled": true
   },
   "outputs": [
    {
     "name": "stdout",
     "output_type": "stream",
     "text": [
      "Rating=4.0, Predicted=4.004435607830772, Movie_id=32.0\n",
      "Rating=4.5, Predicted=4.543283422452302, Movie_id=50.0\n",
      "Rating=0.5, Predicted=2.211862502290493, Movie_id=186.0\n",
      "Rating=4.0, Predicted=3.992030909911633, Movie_id=293.0\n",
      "Rating=5.0, Predicted=4.9974596746872075, Movie_id=318.0\n",
      "Rating=3.5, Predicted=2.772287114397526, Movie_id=370.0\n",
      "Rating=4.0, Predicted=4.482440390340926, Movie_id=527.0\n",
      "Rating=1.5, Predicted=1.8923940053128374, Movie_id=762.0\n",
      "Rating=3.5, Predicted=4.201817764969903, Movie_id=1090.0\n",
      "Rating=3.0, Predicted=3.9466712659220256, Movie_id=1222.0\n",
      "Rating=4.0, Predicted=4.210045181468951, Movie_id=1262.0\n",
      "Rating=1.5, Predicted=2.7401432863869135, Movie_id=1917.0\n",
      "Rating=1.0, Predicted=2.7680539598611325, Movie_id=2006.0\n",
      "Rating=2.5, Predicted=3.247699656572003, Movie_id=2011.0\n",
      "Rating=2.5, Predicted=3.1218841434360605, Movie_id=2012.0\n",
      "Rating=2.0, Predicted=2.6115456410899465, Movie_id=2054.0\n",
      "Rating=2.5, Predicted=2.9206018522437174, Movie_id=2302.0\n",
      "Rating=3.0, Predicted=3.911586145774257, Movie_id=2324.0\n",
      "Rating=4.5, Predicted=4.334762611073137, Movie_id=2329.0\n",
      "Rating=4.0, Predicted=3.685039265537881, Movie_id=2395.0\n",
      "Rating=4.5, Predicted=4.4311603515837055, Movie_id=2502.0\n",
      "Rating=2.5, Predicted=2.8939453247688514, Movie_id=2617.0\n",
      "Rating=3.5, Predicted=4.045723839108671, Movie_id=2692.0\n",
      "Rating=2.5, Predicted=3.217876710481145, Movie_id=2712.0\n",
      "Rating=3.0, Predicted=2.778200082584177, Movie_id=2770.0\n",
      "Rating=4.0, Predicted=4.383913725097208, Movie_id=2858.0\n",
      "Rating=4.5, Predicted=4.680341864140156, Movie_id=2959.0\n",
      "Rating=3.5, Predicted=3.530686954829233, Movie_id=3176.0\n",
      "Rating=2.5, Predicted=3.0887297051527445, Movie_id=3868.0\n",
      "Rating=4.0, Predicted=3.74449691763272, Movie_id=3950.0\n",
      "Rating=3.5, Predicted=3.9875856655958515, Movie_id=3996.0\n",
      "Rating=4.0, Predicted=4.173477777628744, Movie_id=4011.0\n",
      "Rating=3.5, Predicted=3.84473766651506, Movie_id=4027.0\n",
      "Rating=3.5, Predicted=3.9519168318014866, Movie_id=4034.0\n",
      "Rating=4.5, Predicted=4.511403316418081, Movie_id=4226.0\n",
      "Rating=4.0, Predicted=4.3879008599000064, Movie_id=4973.0\n",
      "Rating=4.5, Predicted=3.8809411418992297, Movie_id=5669.0\n",
      "Rating=2.0, Predicted=3.498369441117013, Movie_id=5952.0\n",
      "RMSE = 0.45748964095808214\n"
     ]
    }
   ],
   "source": [
    "predict_all_watched_movies(movie_ratings, user_id=449, min_common_elements=2, year=2020)"
   ]
  },
  {
   "cell_type": "code",
   "execution_count": 35,
   "metadata": {
    "scrolled": true
   },
   "outputs": [
    {
     "name": "stdout",
     "output_type": "stream",
     "text": [
      "Rating=4.0, Predicted=3.9039833652000735, Movie_id=32.0\n",
      "Rating=4.5, Predicted=4.598229754264022, Movie_id=50.0\n",
      "Rating=0.5, Predicted=2.3429443827127425, Movie_id=186.0\n",
      "Rating=4.0, Predicted=3.7144254713814138, Movie_id=293.0\n",
      "Rating=5.0, Predicted=5.183872953178719, Movie_id=318.0\n",
      "Rating=3.5, Predicted=3.057438706999848, Movie_id=370.0\n",
      "Rating=4.0, Predicted=4.717354829210552, Movie_id=527.0\n",
      "Rating=1.5, Predicted=1.729218551154083, Movie_id=762.0\n",
      "Rating=3.5, Predicted=4.237291708454862, Movie_id=1090.0\n",
      "Rating=3.0, Predicted=4.006670089401794, Movie_id=1222.0\n",
      "Rating=4.0, Predicted=4.531856620854257, Movie_id=1262.0\n",
      "Rating=1.5, Predicted=2.4932114405032384, Movie_id=1917.0\n",
      "Rating=1.0, Predicted=2.767780666656726, Movie_id=2006.0\n",
      "Rating=2.5, Predicted=2.6550344992653936, Movie_id=2011.0\n",
      "Rating=2.5, Predicted=3.045961570283972, Movie_id=2012.0\n",
      "Rating=2.0, Predicted=2.7684976864075823, Movie_id=2054.0\n",
      "Rating=2.5, Predicted=3.09535605439345, Movie_id=2302.0\n",
      "Rating=3.0, Predicted=3.825579310405557, Movie_id=2324.0\n",
      "Rating=4.5, Predicted=4.5129165098752155, Movie_id=2329.0\n",
      "Rating=4.0, Predicted=4.0228875545356715, Movie_id=2395.0\n",
      "Rating=4.5, Predicted=4.167606129467501, Movie_id=2502.0\n",
      "Rating=2.5, Predicted=2.5591303135342125, Movie_id=2617.0\n",
      "Rating=3.5, Predicted=4.250326848594973, Movie_id=2692.0\n",
      "Rating=2.5, Predicted=2.8409470832219443, Movie_id=2712.0\n",
      "Rating=3.0, Predicted=2.830595817218792, Movie_id=2770.0\n",
      "Rating=4.0, Predicted=4.6000667653809355, Movie_id=2858.0\n",
      "Rating=4.5, Predicted=4.41487544146164, Movie_id=2959.0\n",
      "Rating=3.5, Predicted=3.3403366049482193, Movie_id=3176.0\n",
      "Rating=2.5, Predicted=2.9140130511435385, Movie_id=3868.0\n",
      "Rating=4.0, Predicted=3.971016528377674, Movie_id=3950.0\n",
      "Rating=3.5, Predicted=4.117962862645357, Movie_id=3996.0\n",
      "Rating=4.0, Predicted=4.142611816676721, Movie_id=4011.0\n",
      "Rating=3.5, Predicted=4.065557869403021, Movie_id=4027.0\n",
      "Rating=3.5, Predicted=4.194300530508107, Movie_id=4034.0\n",
      "Rating=4.5, Predicted=4.455263339662676, Movie_id=4226.0\n",
      "Rating=4.0, Predicted=4.527662883932617, Movie_id=4973.0\n",
      "Rating=4.5, Predicted=4.193541552548259, Movie_id=5669.0\n",
      "Rating=2.0, Predicted=3.3904946861643817, Movie_id=5952.0\n",
      "RMSE = 0.44982614040591595\n"
     ]
    }
   ],
   "source": [
    "predict_all_watched_movies(movie_ratings, user_id=449, min_common_elements=2, year=2003)"
   ]
  },
  {
   "cell_type": "code",
   "execution_count": 24,
   "metadata": {},
   "outputs": [
    {
     "name": "stdout",
     "output_type": "stream",
     "text": [
      "First Movie Rating:  1996-03-29 18:36:55\n",
      "Today:  2020-03-31 10:08:58.782117\n"
     ]
    }
   ],
   "source": [
    "print(\"First Movie Rating: \", movie_ratings['timestamp'].min() )\n",
    "print(\"Today: \", datetime.now())"
   ]
  },
  {
   "cell_type": "code",
   "execution_count": 25,
   "metadata": {},
   "outputs": [
    {
     "data": {
      "text/plain": [
       "3.1139499556033217"
      ]
     },
     "execution_count": 25,
     "metadata": {},
     "output_type": "execute_result"
    }
   ],
   "source": [
    "predict_movie_at(movie_ratings,user_id=449,movie_id=3,\n",
    "                 year=2015, month=7, day=15,\n",
    "                 min_common_elements=2, default_value=0)"
   ]
  },
  {
   "cell_type": "code",
   "execution_count": 26,
   "metadata": {},
   "outputs": [
    {
     "data": {
      "text/plain": [
       "4.381345234725266"
      ]
     },
     "execution_count": 26,
     "metadata": {},
     "output_type": "execute_result"
    }
   ],
   "source": [
    "predict_movie_at(movie_ratings,user_id=449,movie_id=260,\n",
    "                 year=2010, month=7, day=15,\n",
    "                 min_common_elements=2, default_value=0)"
   ]
  },
  {
   "cell_type": "code",
   "execution_count": 57,
   "metadata": {},
   "outputs": [],
   "source": [
    "def get_user_rating(ratings_data, user_id):\n",
    "    return movie_ratings.loc[ratings_data['user_id'] == user_id]"
   ]
  },
  {
   "cell_type": "code",
   "execution_count": 58,
   "metadata": {},
   "outputs": [],
   "source": [
    "def get_user_rating_for_movie(ratings_data, user_id, movie_id):\n",
    "    return movie_ratings.loc[ (ratings_data['user_id'] == user_id) & (ratings_data['item_id'] == movie_id) ].values[0,2]"
   ]
  },
  {
   "cell_type": "code",
   "execution_count": 59,
   "metadata": {},
   "outputs": [],
   "source": [
    "def get_rating_timestamp(ratings_data, user_id, movie_id):\n",
    "    return movie_ratings.loc[ (ratings_data['user_id'] == user_id) & (ratings_data['item_id'] == movie_id) ].values[0,3]"
   ]
  },
  {
   "cell_type": "code",
   "execution_count": 63,
   "metadata": {},
   "outputs": [
    {
     "data": {
      "text/html": [
       "<div>\n",
       "<style scoped>\n",
       "    .dataframe tbody tr th:only-of-type {\n",
       "        vertical-align: middle;\n",
       "    }\n",
       "\n",
       "    .dataframe tbody tr th {\n",
       "        vertical-align: top;\n",
       "    }\n",
       "\n",
       "    .dataframe thead th {\n",
       "        text-align: right;\n",
       "    }\n",
       "</style>\n",
       "<table border=\"1\" class=\"dataframe\">\n",
       "  <thead>\n",
       "    <tr style=\"text-align: right;\">\n",
       "      <th></th>\n",
       "      <th>user_id</th>\n",
       "      <th>item_id</th>\n",
       "      <th>rating</th>\n",
       "      <th>timestamp</th>\n",
       "      <th>title</th>\n",
       "      <th>genres</th>\n",
       "      <th>year</th>\n",
       "    </tr>\n",
       "  </thead>\n",
       "  <tbody>\n",
       "    <tr>\n",
       "      <th>70518</th>\n",
       "      <td>322</td>\n",
       "      <td>8228</td>\n",
       "      <td>3.5</td>\n",
       "      <td>2008-08-02 11:07:13</td>\n",
       "      <td>Maltese Falcon, The (a.k.a. Dangerous Female)</td>\n",
       "      <td>Mystery</td>\n",
       "      <td>1931.0</td>\n",
       "    </tr>\n",
       "    <tr>\n",
       "      <th>70519</th>\n",
       "      <td>346</td>\n",
       "      <td>8228</td>\n",
       "      <td>3.0</td>\n",
       "      <td>2005-12-05 16:19:03</td>\n",
       "      <td>Maltese Falcon, The (a.k.a. Dangerous Female)</td>\n",
       "      <td>Mystery</td>\n",
       "      <td>1931.0</td>\n",
       "    </tr>\n",
       "    <tr>\n",
       "      <th>70520</th>\n",
       "      <td>387</td>\n",
       "      <td>8228</td>\n",
       "      <td>4.0</td>\n",
       "      <td>2004-09-11 04:15:06</td>\n",
       "      <td>Maltese Falcon, The (a.k.a. Dangerous Female)</td>\n",
       "      <td>Mystery</td>\n",
       "      <td>1931.0</td>\n",
       "    </tr>\n",
       "    <tr>\n",
       "      <th>70521</th>\n",
       "      <td>397</td>\n",
       "      <td>8228</td>\n",
       "      <td>4.0</td>\n",
       "      <td>2007-06-16 04:16:03</td>\n",
       "      <td>Maltese Falcon, The (a.k.a. Dangerous Female)</td>\n",
       "      <td>Mystery</td>\n",
       "      <td>1931.0</td>\n",
       "    </tr>\n",
       "    <tr>\n",
       "      <th>70522</th>\n",
       "      <td>474</td>\n",
       "      <td>8228</td>\n",
       "      <td>4.0</td>\n",
       "      <td>2004-05-24 12:59:22</td>\n",
       "      <td>Maltese Falcon, The (a.k.a. Dangerous Female)</td>\n",
       "      <td>Mystery</td>\n",
       "      <td>1931.0</td>\n",
       "    </tr>\n",
       "  </tbody>\n",
       "</table>\n",
       "</div>"
      ],
      "text/plain": [
       "       user_id  item_id  rating           timestamp  \\\n",
       "70518      322     8228     3.5 2008-08-02 11:07:13   \n",
       "70519      346     8228     3.0 2005-12-05 16:19:03   \n",
       "70520      387     8228     4.0 2004-09-11 04:15:06   \n",
       "70521      397     8228     4.0 2007-06-16 04:16:03   \n",
       "70522      474     8228     4.0 2004-05-24 12:59:22   \n",
       "\n",
       "                                               title   genres    year  \n",
       "70518  Maltese Falcon, The (a.k.a. Dangerous Female)  Mystery  1931.0  \n",
       "70519  Maltese Falcon, The (a.k.a. Dangerous Female)  Mystery  1931.0  \n",
       "70520  Maltese Falcon, The (a.k.a. Dangerous Female)  Mystery  1931.0  \n",
       "70521  Maltese Falcon, The (a.k.a. Dangerous Female)  Mystery  1931.0  \n",
       "70522  Maltese Falcon, The (a.k.a. Dangerous Female)  Mystery  1931.0  "
      ]
     },
     "execution_count": 63,
     "metadata": {},
     "output_type": "execute_result"
    }
   ],
   "source": [
    "get_user_rating(ratings,449).head()"
   ]
  },
  {
   "cell_type": "code",
   "execution_count": 64,
   "metadata": {},
   "outputs": [
    {
     "data": {
      "text/plain": [
       "Timestamp('2008-08-02 11:07:13')"
      ]
     },
     "execution_count": 64,
     "metadata": {},
     "output_type": "execute_result"
    }
   ],
   "source": [
    "get_rating_timestamp(ratings,449,32)"
   ]
  },
  {
   "cell_type": "code",
   "execution_count": 65,
   "metadata": {},
   "outputs": [
    {
     "data": {
      "text/plain": [
       "3.5"
      ]
     },
     "execution_count": 65,
     "metadata": {},
     "output_type": "execute_result"
    }
   ],
   "source": [
    "get_user_rating_for_movie(ratings,449,32)"
   ]
  },
  {
   "cell_type": "code",
   "execution_count": null,
   "metadata": {},
   "outputs": [],
   "source": []
  }
 ],
 "metadata": {
  "kernelspec": {
   "display_name": "Python 3",
   "language": "python",
   "name": "python3"
  },
  "language_info": {
   "codemirror_mode": {
    "name": "ipython",
    "version": 3
   },
   "file_extension": ".py",
   "mimetype": "text/x-python",
   "name": "python",
   "nbconvert_exporter": "python",
   "pygments_lexer": "ipython3",
   "version": "3.7.4"
  }
 },
 "nbformat": 4,
 "nbformat_minor": 4
}
